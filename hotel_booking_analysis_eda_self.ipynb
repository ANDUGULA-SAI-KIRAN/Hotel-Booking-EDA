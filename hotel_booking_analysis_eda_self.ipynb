{
  "nbformat": 4,
  "nbformat_minor": 0,
  "metadata": {
    "colab": {
      "private_outputs": true,
      "provenance": [],
      "collapsed_sections": [
        "0wOQAZs5pc--",
        "U2RJ9gkRphqQ",
        "1M8mcRywphqQ",
        "tgIPom80phqQ",
        "KSlN3yHqYklG",
        "BZR9WyysphqO",
        "jj7wYXLtphqO",
        "eZrbJ2SmphqO",
        "EM7whBJCYoAo",
        "fge-S5ZAYoAp",
        "4Of9eVA-YrdM",
        "iky9q4vBYrdO",
        "PIIx-8_IphqN",
        "x-EpHcCOp1ci",
        "n3dbpmDWp1ck",
        "Ag9LCva-p1cl",
        "NC_X3p0fY2L0"
      ],
      "include_colab_link": true
    },
    "kernelspec": {
      "name": "python3",
      "display_name": "Python 3"
    },
    "language_info": {
      "name": "python"
    }
  },
  "cells": [
    {
      "cell_type": "markdown",
      "metadata": {
        "id": "view-in-github",
        "colab_type": "text"
      },
      "source": [
        "<a href=\"https://colab.research.google.com/github/ANDUGULA-SAI-KIRAN/Hotel-Booking-EDA/blob/main/hotel_booking_analysis_eda_self.ipynb\" target=\"_parent\"><img src=\"https://colab.research.google.com/assets/colab-badge.svg\" alt=\"Open In Colab\"/></a>"
      ]
    },
    {
      "cell_type": "code",
      "source": [
        "import numpy as np\n",
        "import pandas as pd\n",
        "import matplotlib.pyplot as plt\n",
        "import seaborn as sns\n",
        "#from google.colab import drive\n",
        "#drive.mount('/content/drive')"
      ],
      "metadata": {
        "id": "M8Vqi-pPk-HR"
      },
      "execution_count": null,
      "outputs": []
    },
    {
      "cell_type": "markdown",
      "source": [
        "Data set link - https://drive.google.com/file/d/1HhW1A9kcUbE4l2kVsH4yQ7eln2p9VYmF/view?usp=sharing"
      ],
      "metadata": {
        "id": "Ec6Dh9ZHaITK"
      }
    },
    {
      "cell_type": "code",
      "source": [
        "data = pd.read_csv('/content/Hotel Bookings.csv')\n",
        "hotel_df = pd.DataFrame(data)"
      ],
      "metadata": {
        "id": "4CkvbW_SlZ_R"
      },
      "execution_count": null,
      "outputs": []
    },
    {
      "cell_type": "code",
      "source": [
        "# Dataset First Look\n",
        "pd.set_option('display.max_columns',32)  #displays all column names\n",
        "hotel_df.head() #displays 1st five rows"
      ],
      "metadata": {
        "id": "LWNFOSvLl09H"
      },
      "execution_count": null,
      "outputs": []
    },
    {
      "cell_type": "code",
      "source": [
        "# Dataset Rows & Columns count\n",
        "hotel_df.shape # displays the count of rows and columns"
      ],
      "metadata": {
        "id": "Kllu7SJgmLij"
      },
      "execution_count": null,
      "outputs": []
    },
    {
      "cell_type": "code",
      "source": [
        "# Dataset Columns\n",
        "hotel_df.columns"
      ],
      "metadata": {
        "id": "j7xfkqrt5Ag5"
      },
      "execution_count": null,
      "outputs": []
    },
    {
      "cell_type": "code",
      "source": [
        "# Dataset Describe\n",
        "hotel_df.describe(include = 'all')"
      ],
      "metadata": {
        "id": "DnOaZdaE5Q5t"
      },
      "execution_count": null,
      "outputs": []
    },
    {
      "cell_type": "markdown",
      "source": [
        "**Step 1: Removing duplicate rows if any**"
      ],
      "metadata": {
        "id": "kcMtvMvjBVQQ"
      }
    },
    {
      "cell_type": "code",
      "source": [
        "#1 checking for any duplicate rows\n",
        "print('total number of rows and columns',hotel_df.shape)\n",
        "hotel_df.drop_duplicates(inplace = True)\n",
        "print('total number of rows and columns after removing duplicates',hotel_df.shape)"
      ],
      "metadata": {
        "id": "wk-9a2fpoLcV"
      },
      "execution_count": null,
      "outputs": []
    },
    {
      "cell_type": "markdown",
      "source": [
        "**step 2: handling mising values**"
      ],
      "metadata": {
        "id": "PxNbjWrlBwEU"
      }
    },
    {
      "cell_type": "code",
      "source": [
        "# 2 checking for null values in data set and replacing the null values with according to column data type\n",
        "hotel_df.isnull().sum().sort_values(ascending = False) # gives the sum of null values in each column\n",
        "\n",
        "#2.1 Deletion of company column:\n",
        "hotel_df.drop(['company'], axis =1, inplace = True)\n",
        "\n",
        "#2.2 Filling null values with 0 for column agent:\n",
        "hotel_df['agent'].fillna(0, inplace = True)\n",
        "\n",
        "#2.3 replacing null values with others\n",
        "hotel_df['country'].fillna('others', inplace = True)\n",
        "\n",
        "#2.4 replacing null values in children column with 0:\n",
        "hotel_df['children'].fillna(0, inplace = True)"
      ],
      "metadata": {
        "id": "nXDsjtGo3_7x"
      },
      "execution_count": null,
      "outputs": []
    },
    {
      "cell_type": "markdown",
      "source": [
        "**step 3: Type casting(conversion of data type)**"
      ],
      "metadata": {
        "id": "mSaJK3MGzOm2"
      }
    },
    {
      "cell_type": "code",
      "source": [
        "#type casting children & agent columns from float to int:\n",
        "hotel_df[['children','agent']] = hotel_df[['children','agent']].astype('int64')\n",
        "\n",
        "#type casting reservation_status_date from object to date time:\n",
        "hotel_df['reservation_status_date'] = pd.to_datetime(hotel_df['reservation_status_date'], format = '%Y-%m-%d')"
      ],
      "metadata": {
        "id": "nAAWdRJ4p2pe"
      },
      "execution_count": null,
      "outputs": []
    },
    {
      "cell_type": "markdown",
      "source": [
        "**step 4: column assignment/adding**\n"
      ],
      "metadata": {
        "id": "NLk4ZkSE6mgz"
      }
    },
    {
      "cell_type": "code",
      "source": [
        "#assigning a new column \"total_guests\" by adding follwoin columns adults, children, babies\n",
        "hotel_df['total_guests'] = hotel_df.children + hotel_df.babies + hotel_df.adults\n",
        "\n",
        "#assigning new column \"total_stay\" by adding following columns stays_in_weekend_nights & stays_in_week_nights\n",
        "hotel_df['total_stay'] = hotel_df.stays_in_weekend_nights + hotel_df.stays_in_week_nights"
      ],
      "metadata": {
        "id": "xQacCk1J41Gl"
      },
      "execution_count": null,
      "outputs": []
    },
    {
      "cell_type": "markdown",
      "source": [
        "**step 5: removing outliers:**"
      ],
      "metadata": {
        "id": "wQpDeThX_FfF"
      }
    },
    {
      "cell_type": "code",
      "source": [
        "'''\n",
        "the following rows contains total guests count as 0, other entries in these rows are filled with\n",
        "values, we can assume booking were made and guests didn't checkin, therefore we can delete these rows\n",
        "'''\n",
        "print('total number of rows with total guests as 0 is:',hotel_df[hotel_df['total_guests'] == 0].shape)\n",
        "# or hotel_df[hotel_df['children'] + hotel_df['adults'] + hotel_df['babies'] ==0].shape\n"
      ],
      "metadata": {
        "id": "dbjd_OGo15Sf"
      },
      "execution_count": null,
      "outputs": []
    },
    {
      "cell_type": "code",
      "source": [
        "#displaying the outlier in scatter plot\n",
        "plt.figure(figsize = (12,6))\n",
        "sns.scatterplot(data= hotel_df, x= 'total_stay', y= 'adr', label = 'scatter plot with outlier')"
      ],
      "metadata": {
        "id": "MKMVIrDy9sra"
      },
      "execution_count": null,
      "outputs": []
    },
    {
      "cell_type": "code",
      "source": [
        "#displaying the plot after removing outlier\n",
        "hotel_df.drop(hotel_df[hotel_df['adr']> 5000].index, inplace = True ) #removing the outlier which is above 5000\n",
        "plt.figure(figsize = (12,6))\n",
        "sns.scatterplot(data= hotel_df, x= 'total_stay', y= 'adr', label = 'scatter plot without outlier')\n",
        "plt.show()\n",
        "print('shape of data frame is ',hotel_df.shape)"
      ],
      "metadata": {
        "id": "0DYJ3tQV9skc"
      },
      "execution_count": null,
      "outputs": []
    },
    {
      "cell_type": "markdown",
      "source": [
        "#### **Chart - 1 City hotel booking vs resort hotel bookings Analysis**"
      ],
      "metadata": {
        "id": "0wOQAZs5pc--"
      }
    },
    {
      "cell_type": "code",
      "source": [
        "# Chart - 1 visualization code\n",
        "hotel_type = hotel_df['hotel'].value_counts()\n",
        "hotel_type.reset_index()"
      ],
      "metadata": {
        "id": "7v_ESjsspbW7"
      },
      "execution_count": null,
      "outputs": []
    },
    {
      "cell_type": "code",
      "source": [
        "hotel_type.plot.pie(x= 'City Hotel', y='Resort Hotel',\n",
        "                    autopct='%1.2f%%',textprops={'weight': 'bold'})\n",
        "plt.title('Hotel type', fontweight=\"bold\", size=15 )\n",
        "plt.show()"
      ],
      "metadata": {
        "id": "Zj75eCoepUhn"
      },
      "execution_count": null,
      "outputs": []
    },
    {
      "cell_type": "markdown",
      "source": [
        "##### 1. Why did you pick the specific chart?"
      ],
      "metadata": {
        "id": "K5QZ13OEpz2H"
      }
    },
    {
      "cell_type": "markdown",
      "source": [
        "A pie chart is effective to represent a categorial data as a part-to-whole relationship(percentage of each category)"
      ],
      "metadata": {
        "id": "XESiWehPqBRc"
      }
    },
    {
      "cell_type": "markdown",
      "source": [
        "##### 2. What is/are the insight(s) found from the chart?"
      ],
      "metadata": {
        "id": "lQ7QKXXCp7Bj"
      }
    },
    {
      "cell_type": "markdown",
      "source": [
        "Here i found that city hotel has more bookings which is 61% compared to resort hotel which is 39%."
      ],
      "metadata": {
        "id": "C_j1G7yiqdRP"
      }
    },
    {
      "cell_type": "markdown",
      "source": [
        "##### 3. Will the gained insights help creating a positive business impact?\n",
        "Are there any insights that lead to negative growth? Justify with specific reason."
      ],
      "metadata": {
        "id": "448CDAPjqfQr"
      }
    },
    {
      "cell_type": "markdown",
      "source": [
        "**From the obeservation made from plot**\n",
        "\n",
        "**City Hotel:**\n",
        "\n",
        "**positive business impact:** City hotel has year-round demand of bookings due various reasons like bussiness travelers, tourists, conventions. This consistent flow of visitors can provide a stable revenue throught year.\n",
        "\n",
        "**Negative business impact:** Even after having year-round demand compitition is high, to achieve maximum bookings hotel prices shall be minimum compared to market pricing by compromising profit margins, not compromising in providing services.\n",
        "\n",
        "**Resort Hotel:**\n",
        "**positive business impact:** resort hotels have there own advantage of providing guests a relaxing and leisure-focused experience, resort hotels are usually booked for vacations, holiday trips, wedding ceremony's, etc,. this lead to longer stays of guests.\n",
        "\n",
        "Apart from room rates resort hotel provides various amenities like spas, swimming pool, loud music, dance floors, recretional activities etc,. which gives additional revenue.\n",
        "\n",
        "\n",
        "**Negative business impact:** Resort hotel are highly seasonal dependency with peak demand during vacations and festival holidays this can lead to reduced occupancy and revenue. since resorts provide various amenities maintenance costs increases during non-season maintaining these expenses is high."
      ],
      "metadata": {
        "id": "3cspy4FjqxJW"
      }
    },
    {
      "cell_type": "markdown",
      "source": [
        "#### **Chart - 2 Booking cancellation Analysis**"
      ],
      "metadata": {
        "id": "U2RJ9gkRphqQ"
      }
    },
    {
      "cell_type": "code",
      "source": [
        "def booking_cancelation(col):\n",
        "  if col == 0:\n",
        "    return 'Booking canceled'\n",
        "  else:\n",
        "    return 'Not canceled'\n",
        "\n",
        "booking_cancellation = hotel_df.copy()\n",
        "booking_cancellation['is_canceled'] = hotel_df['is_canceled'].apply(booking_cancelation)\n",
        "booking_cancellation"
      ],
      "metadata": {
        "id": "DVnpJWzkpQJd"
      },
      "execution_count": null,
      "outputs": []
    },
    {
      "cell_type": "code",
      "source": [
        "booking_cancellation['is_canceled'].value_counts()"
      ],
      "metadata": {
        "id": "Q9RUp890r6A5"
      },
      "execution_count": null,
      "outputs": []
    },
    {
      "cell_type": "code",
      "source": [
        "sns.countplot(data =booking_cancellation, x='is_canceled', hue = 'hotel')\n",
        "plt.xlabel('cancelation status', fontweight='bold')\n",
        "plt.ylabel('No. of cancelations',fontweight='bold')\n",
        "plt.title('Booking cancelation Analysis',fontweight='bold', size = 13)\n",
        "plt.show()"
      ],
      "metadata": {
        "id": "qC8cS4jnjnoV"
      },
      "execution_count": null,
      "outputs": []
    },
    {
      "cell_type": "markdown",
      "source": [
        "##### 1. Why did you pick the specific chart?"
      ],
      "metadata": {
        "id": "1M8mcRywphqQ"
      }
    },
    {
      "cell_type": "markdown",
      "source": [
        "**counter plot:** A counter plot is also known as countplot, is used to visualize the frequency or count of categorical data, it displays the the number of occureneces of each category within a single categorical variable."
      ],
      "metadata": {
        "id": "8agQvks0phqQ"
      }
    },
    {
      "cell_type": "markdown",
      "source": [
        "##### 2. What is/are the insight(s) found from the chart?"
      ],
      "metadata": {
        "id": "tgIPom80phqQ"
      }
    },
    {
      "cell_type": "markdown",
      "source": [
        "**High cancellation rates:** There are significantly more canceled bookings (63,371) compared to non-canceled bookings (24,024) suggests that the hotel experiences a relatively high booking cancellation rate.\n",
        "\n",
        "**Potential Revenue loss:** The large number of canceled bookings implies that the hotel may experience revenue loss due to cancellations. When customers cancel their bookings, it can lead to vacant rooms, which means potential revenue that could have been earned is lost. This insight underscores the importance of managing and reducing booking cancellations."
      ],
      "metadata": {
        "id": "Qp13pnNzphqQ"
      }
    },
    {
      "cell_type": "markdown",
      "source": [
        "##### 3. Will the gained insights help creating a positive business impact?\n",
        "Are there any insights that lead to negative growth? Justify with specific reason."
      ],
      "metadata": {
        "id": "JMzcOPDDphqR"
      }
    },
    {
      "cell_type": "markdown",
      "source": [
        "**Optimizing Revenue Management:** Understanding the cancellation rate can help the hotel in optimizing its revenue management strategies. It can adjust pricing overbooking policies and promotional strategies to minimize revenue loss due to cancellations.\n",
        "\n",
        "**Enhancing Customer Experience:** By analyzing the reasons for cancellations, the hotel can identify areas for improvement in its services or policies. Addressing these issues can lead to a better customer experience and potentially reduce cancellations.\n",
        "\n",
        "**Resource Allocation:** The hotel can adjust staffing and resource allocation based on booking patterns. For instance, during peak cancellation periods, the hotel can reduce staff or services temporarily to minimize operational costs.\n",
        "\n",
        "**Negative Growth impact (if not taken care):**\n",
        "\n",
        "**Reduced Customer Loyalty:** Frequent cancellations can also lead to reduced customer loyalty. Guests who repeatedly experience cancellations or uncertainties may choose other hotels in the future, affecting long-term customer relationships.\n",
        "\n",
        "**Revenue Loss:** If the high cancellation rate is not effectively managed, it can lead to a significant loss of revenue over time. This can impact the overall business potential."
      ],
      "metadata": {
        "id": "R4Ka1PC2phqR"
      }
    },
    {
      "cell_type": "markdown",
      "source": [
        "#### **Chart - 3 Seasonal and yearly hotel booking patterns**"
      ],
      "metadata": {
        "id": "KSlN3yHqYklG"
      }
    },
    {
      "cell_type": "code",
      "source": [
        "#yearly booking patterns - comparision of bookings for both hotels by year\n",
        "sns.countplot(x= 'arrival_date_year', data = hotel_df, hue = 'hotel')\n",
        "plt.title('Yearly booking patterns')"
      ],
      "metadata": {
        "id": "cFJVyeQRqRdV"
      },
      "execution_count": null,
      "outputs": []
    },
    {
      "cell_type": "code",
      "source": [
        "#sum of city hotel bookings month wise\n",
        "city_hotel_df = hotel_df[hotel_df['hotel'] == 'City Hotel'] #gives output of only city hotels list\n",
        "city_hotel_booking = city_hotel_df.arrival_date_month.value_counts() #groups the column month and gives sum of guests arrival in  specific month\n",
        "city_hotel_booking"
      ],
      "metadata": {
        "id": "R4YgtaqtYklH"
      },
      "execution_count": null,
      "outputs": []
    },
    {
      "cell_type": "code",
      "source": [
        "#sum of resort hotel bookings month wise\n",
        "resort_hotel_df =  hotel_df[hotel_df['hotel'] == 'Resort Hotel'] #gives output of only resort hotel list\n",
        "resort_hotel_booking = resort_hotel_df['arrival_date_month'].value_counts() #groups the column month and gives sum of guests arrival in  specific month\n",
        "resort_hotel_booking"
      ],
      "metadata": {
        "id": "HlmJCkPhS4UE"
      },
      "execution_count": null,
      "outputs": []
    },
    {
      "cell_type": "code",
      "source": [
        "#seasonal booking patterns - comparision of bookings for both hotels by months\n",
        "plt.figure(figsize = (12,6))\n",
        "sns.countplot(data = hotel_df, x = 'arrival_date_month', hue = 'hotel')\n",
        "plt.title('Seasonal booking patterns')"
      ],
      "metadata": {
        "id": "Mo_B-12wrPDJ"
      },
      "execution_count": null,
      "outputs": []
    },
    {
      "cell_type": "markdown",
      "source": [
        "##### 1. Why did you pick the specific chart?"
      ],
      "metadata": {
        "id": "t6dVpIINYklI"
      }
    },
    {
      "cell_type": "markdown",
      "source": [
        "**counter plot:** A counter plot is also known as countplot, is used to visualize the frequency or count of categorical data, it displays the the number of occureneces of each category within a single categorical variable."
      ],
      "metadata": {
        "id": "5aaW0BYyYklI"
      }
    },
    {
      "cell_type": "markdown",
      "source": [
        "##### 2. What is/are the insight(s) found from the chart?"
      ],
      "metadata": {
        "id": "ijmpgYnKYklI"
      }
    },
    {
      "cell_type": "markdown",
      "source": [
        "**Bookings by Year:**\n",
        "\n",
        "booking patterns by year shows there are high bookings in year 2016 compared to 2015 & 2017, there isn't much data to predict why bookings were high.\n",
        "\n",
        "**Bookings by Month:**\n",
        "\n",
        "Booking patterns by month shows there are high bookings in month of july & august and low in month of november. december and january\n"
      ],
      "metadata": {
        "id": "PSx9atu2YklI"
      }
    },
    {
      "cell_type": "markdown",
      "source": [
        "##### 3. Will the gained insights help creating a positive business impact?\n",
        "Are there any insights that lead to negative growth? Justify with specific reason."
      ],
      "metadata": {
        "id": "-JiQyfWJYklI"
      }
    },
    {
      "cell_type": "markdown",
      "source": [
        "**Bookings by month:**\n",
        "\n",
        "**positive:** by observing the plot, clearly we can see bookings are high in month of 'july' & 'august' and low in the month of 'november', 'december','january'.\n",
        "according to these months we can maintain staff/service employees more in high booking months and low staff in low booking months by this we can not only optimise the revenue in long periods and provide adequate services and amenities for all guests in busy months."
      ],
      "metadata": {
        "id": "BcBbebzrYklV"
      }
    },
    {
      "cell_type": "markdown",
      "source": [
        "#### **Chart - 4 Repeated guests Analysis**"
      ],
      "metadata": {
        "id": "BZR9WyysphqO"
      }
    },
    {
      "cell_type": "code",
      "source": [
        "# Chart - 8 visualization code\n",
        "repeated_guests = hotel_df['is_repeated_guest'].value_counts()\n",
        "repeated_guests = repeated_guests.reset_index()\n",
        "repeated_guests"
      ],
      "metadata": {
        "id": "TdPTWpAVphqO"
      },
      "execution_count": null,
      "outputs": []
    },
    {
      "cell_type": "code",
      "source": [
        "def repeated_guest(col):\n",
        "  if col == 0:\n",
        "    return 'New booking'\n",
        "  else:\n",
        "    return 'Repeated Booking'\n",
        "\n",
        "repeated_guests['index'] = repeated_guests['index'].apply(repeated_guest)\n",
        "repeated_guests = repeated_guests.rename(columns = {'index': 'Booking_type'})\n",
        "repeated_guests"
      ],
      "metadata": {
        "id": "C4dXOzkSd0eh"
      },
      "execution_count": null,
      "outputs": []
    },
    {
      "cell_type": "code",
      "source": [
        "repeated_guests.plot.pie(y='is_repeated_guest',explode=[0.03, 0.03], autopct='%1.2f%%',\n",
        "                         figsize=(14,7),fontsize=10, labels = repeated_guests.Booking_type)\n",
        "plt.title('Percentage of repeated guests ',fontsize = 20)\n",
        "plt.ylabel('')\n",
        "plt.show()"
      ],
      "metadata": {
        "id": "DQmjEZjaaqGE"
      },
      "execution_count": null,
      "outputs": []
    },
    {
      "cell_type": "markdown",
      "source": [
        "##### 1. Why did you pick the specific chart?"
      ],
      "metadata": {
        "id": "jj7wYXLtphqO"
      }
    },
    {
      "cell_type": "markdown",
      "source": [
        "A pie chart is effective to represent a categorial data as a part-to-whole relationship(percentage of each category)"
      ],
      "metadata": {
        "id": "Ob8u6rCTphqO"
      }
    },
    {
      "cell_type": "markdown",
      "source": [
        "##### 2. What is/are the insight(s) found from the chart?"
      ],
      "metadata": {
        "id": "eZrbJ2SmphqO"
      }
    },
    {
      "cell_type": "markdown",
      "source": [
        "Analysis reveals 'New booking' is significantly dominates with 96.09% while 'Repeated booking' is 3.91%"
      ],
      "metadata": {
        "id": "mZtgC_hjphqO"
      }
    },
    {
      "cell_type": "markdown",
      "source": [
        "##### 3. Will the gained insights help creating a positive business impact?\n",
        "Are there any insights that lead to negative growth? Justify with specific reason."
      ],
      "metadata": {
        "id": "rFu4xreNphqO"
      }
    },
    {
      "cell_type": "markdown",
      "source": [
        "**positive business impacts:**\n",
        "\n",
        "**Customer retentions:** Having repeated guests is a positive sign as it indicates that the business has successfully retained a portion of its customer base, repeated customers are consistent revenue for hotels.\n",
        "\n",
        "**word of mouth marketing:** Satisfied/repeated guests may recommend their friends and family, contributing to positive word-of-mouth marketing.\n",
        "\n",
        "**Negative business impacts:**\n",
        "\n",
        "**Limited growth:** having repeated guests is beneficial, but low percentage indicates that majority of guests are not returning, this might limit the potential of growth through repeat bookings.\n",
        "\n",
        "**Customer attribution:** Its essential to understand why 96% of guests are not returning, customers dissatisfaction could be the reason, ddressing the reasons for this attrition is important to mitigate negative impacts."
      ],
      "metadata": {
        "id": "ey_0qi68phqO"
      }
    },
    {
      "cell_type": "markdown",
      "source": [
        "#### **Chart - 5 comparision of average daily rate analysis for hotels**"
      ],
      "metadata": {
        "id": "EM7whBJCYoAo"
      }
    },
    {
      "cell_type": "code",
      "source": [
        "# Chart - 3 visualization code\n",
        "adr_mean = hotel_df.groupby('hotel')['adr'].mean().reset_index()\n",
        "adr_mean"
      ],
      "metadata": {
        "id": "t6GMdE67YoAp"
      },
      "execution_count": null,
      "outputs": []
    },
    {
      "cell_type": "code",
      "source": [
        "sns.barplot(x=adr_mean.hotel\t, y= adr_mean.adr)\n",
        "plt.xlabel('oevrall mean of adr for both hotels')\n",
        "plt.show()"
      ],
      "metadata": {
        "id": "9Dp80VC1IJ4G"
      },
      "execution_count": null,
      "outputs": []
    },
    {
      "cell_type": "markdown",
      "source": [
        "##### 1. Why did you pick the specific chart?"
      ],
      "metadata": {
        "id": "fge-S5ZAYoAp"
      }
    },
    {
      "cell_type": "markdown",
      "source": [
        "**Bar plot:** A bar plot is used to visualize the relationship between categorical variable and a numerical variable. Here hotel is a categorical variable and adr is numerical variable"
      ],
      "metadata": {
        "id": "5dBItgRVYoAp"
      }
    },
    {
      "cell_type": "markdown",
      "source": [
        "##### 2. What is/are the insight(s) found from the chart?"
      ],
      "metadata": {
        "id": "85gYPyotYoAp"
      }
    },
    {
      "cell_type": "markdown",
      "source": [
        "The \"City hotel\" generates a higher average daily revenue (ADR) compared to the \"Resort hotel.\" Mean ADR of \"City hotel\" is approximately 110.89, whereas the mean ADR for the \"Resort hotel\" is approximately 99.03."
      ],
      "metadata": {
        "id": "4jstXR6OYoAp"
      }
    },
    {
      "cell_type": "markdown",
      "source": [
        "##### 3. Will the gained insights help creating a positive business impact?\n",
        "Are there any insights that lead to negative growth? Justify with specific reason."
      ],
      "metadata": {
        "id": "RoGjAbkUYoAp"
      }
    },
    {
      "cell_type": "markdown",
      "source": [
        "Resort hotel and City hotel has there own purposes. City hotels are mostly occupied with bussiness meetings/conferences, city tourisms etc,. while resort hotels are mostly located city outskirts with greenery and lake view sites. Guests mostly prefer to visit resort hotels for vacations, wedding events to get relax.\n",
        "\n",
        "**areas to focus for bussiness imporvements:**\n",
        "\n",
        "**- identifying city hotels strengths:** identifying fators that contribute to city hotel success such as location, services, amenities, pricing strategy and implimenting them to resort hotel.\n",
        "\n",
        "**- Diversify offerings:** diversifying the services and amenities at hotels like conference facilities, restaurants, entertainment options etc,. this can attract more guests.\n",
        "\n",
        "**- Market research:** conducting a market research to understand why guests prefer the city hotel over resort hotel, using this information to tailor marketing efforts and services to meet customer expectations.\n",
        "\n",
        "**- Online presence/ digital marketing:** Implimenting digital marketing strtegies to attract more customers, improving their user experience and transactions smooth. (in next plot we will be plotting booking percentage by distribution channel for more insights)"
      ],
      "metadata": {
        "id": "zfJ8IqMcYoAp"
      }
    },
    {
      "cell_type": "markdown",
      "source": [
        "#### **Chart - 6 Booking Channel preferrence Analysis**"
      ],
      "metadata": {
        "id": "4Of9eVA-YrdM"
      }
    },
    {
      "cell_type": "code",
      "source": [
        "# Chart - 4 visualization code\n",
        "booking_distribution = hotel_df['distribution_channel'].value_counts() #total bookings = 87395\n",
        "booking_distribution = pd.DataFrame(booking_distribution).reset_index()\n",
        "booking_distribution #shows tha distribution channel with number of bookings"
      ],
      "metadata": {
        "id": "irlUoxc8YrdO"
      },
      "execution_count": null,
      "outputs": []
    },
    {
      "cell_type": "code",
      "source": [
        "total_bookings = hotel_df['distribution_channel'].value_counts().sum()\n",
        "booking_distribution['booking_percentage'] = (booking_distribution['distribution_channel']/total_bookings) * 100\n",
        "booking_distribution #a new column has created showing percentage of booking channels"
      ],
      "metadata": {
        "id": "gVvRqNwQxcdR"
      },
      "execution_count": null,
      "outputs": []
    },
    {
      "cell_type": "code",
      "source": [
        "sns.barplot(data = booking_distribution, x = 'index', y= 'booking_percentage')\n",
        "plt.xlabel('booking distribution channels')\n",
        "plt.ylabel('booking percentage')\n",
        "plt.title('Booking channel preference Analysis')\n",
        "plt.show()"
      ],
      "metadata": {
        "id": "r2ocFodltObI"
      },
      "execution_count": null,
      "outputs": []
    },
    {
      "cell_type": "markdown",
      "source": [
        "##### 1. Why did you pick the specific chart?"
      ],
      "metadata": {
        "id": "iky9q4vBYrdO"
      }
    },
    {
      "cell_type": "markdown",
      "source": [
        "**Bar plot:** A bar plot is used to visualize the relationship between categorical variable and a numerical variable. Here booking distribution channel is a categorical variable and booking percentage is numerical variable"
      ],
      "metadata": {
        "id": "aJRCwT6DYrdO"
      }
    },
    {
      "cell_type": "markdown",
      "source": [
        "##### 2. What is/are the insight(s) found from the chart?"
      ],
      "metadata": {
        "id": "F6T5p64dYrdO"
      }
    },
    {
      "cell_type": "markdown",
      "source": [
        "The majority of bookings (79.11%) come through Travel Agents/Tour Operators (TA/TO), indicating the significance of this distribution channel. This insight highlights the importance of maintaining strong relationships with TA/TO partners.\n",
        "\n",
        "\n",
        "Direct bookings account is smaller but notable share (14.86%) of the total bookings, indicating the value of the hotel's online presence and marketing efforts in attracting guests directly. Encouraging more direct bookings can lead to cost savings from reduced commissions to third-party agents."
      ],
      "metadata": {
        "id": "Xx8WAJvtYrdO"
      }
    },
    {
      "cell_type": "markdown",
      "source": [
        "##### 3. Will the gained insights help creating a positive business impact?\n",
        "Are there any insights that lead to negative growth? Justify with specific reason."
      ],
      "metadata": {
        "id": "y-Ehk30pYrdP"
      }
    },
    {
      "cell_type": "markdown",
      "source": [
        "From obeservations made from graph we can make certian benchmark for each distribution channels and monitoring for each month or quarterly, by this we understand which distribution channel to focus more for improvements"
      ],
      "metadata": {
        "id": "jLNxxz7MYrdP"
      }
    },
    {
      "cell_type": "code",
      "source": [
        "# Chart - 5 visualization code\n",
        "sns.countplot(data = hotel_df, x= 'assigned_room_type', hue = 'hotel')\n",
        "plt.xlabel('assigned room type')\n",
        "plt.ylabel('number of bookings')\n",
        "plt.title('assigned room type for both hotels')\n",
        "plt.show()"
      ],
      "metadata": {
        "id": "TIJwrbroYuh3"
      },
      "execution_count": null,
      "outputs": []
    },
    {
      "cell_type": "code",
      "source": [
        "sns.countplot(data = hotel_df, x= 'reserved_room_type', hue = 'hotel')\n",
        "plt.xlabel('reserved room type')\n",
        "plt.ylabel('number of bookings')\n",
        "plt.title('reserved room type for both hotels')\n",
        "plt.show()"
      ],
      "metadata": {
        "id": "03urvuGGCepI"
      },
      "execution_count": null,
      "outputs": []
    },
    {
      "cell_type": "markdown",
      "source": [
        "##### 1. Why did you pick the specific chart?"
      ],
      "metadata": {
        "id": "QHF8YVU7Yuh3"
      }
    },
    {
      "cell_type": "markdown",
      "source": [
        "**counter plot:** A counter plot is also known as countplot, is used to visualize the frequency or count of categorical data, it displays the the number of occureneces of each category within a single categorical variable."
      ],
      "metadata": {
        "id": "dcxuIMRPYuh3"
      }
    },
    {
      "cell_type": "markdown",
      "source": [
        "##### 2. What is/are the insight(s) found from the chart?"
      ],
      "metadata": {
        "id": "GwzvFGzlYuh3"
      }
    },
    {
      "cell_type": "markdown",
      "source": [
        "insights found from graphs is in both cases i,e. reserved room type and assigned room type majority of guests prefered to stay in room type 'A' & 'D' followed by 'E', 'F' and 'G'"
      ],
      "metadata": {
        "id": "uyqkiB8YYuh3"
      }
    },
    {
      "cell_type": "markdown",
      "source": [
        "##### 3. Will the gained insights help creating a positive business impact?\n",
        "Are there any insights that lead to negative growth? Justify with specific reason."
      ],
      "metadata": {
        "id": "qYpmQ266Yuh3"
      }
    },
    {
      "cell_type": "markdown",
      "source": [
        "how ever both city hotel and resort hotel serve for different purposes.\n",
        "\n",
        "**City hotel room preferences:**\n",
        "\n",
        "**- bussiness travelers:** city hotels often booked by bussiness travelers whose preference will be spacious work-desk, high speed internet. These travelers prioritize convenience and functionality.\n",
        "\n",
        "**- Noise considerations:** if the hotel is in bussiest areas  guests prefer higher floors or those facing away from busy streets to reduce noise levels.\n",
        "\n",
        "**-Budget constraints:** price sensitive travelers may choose more affordable room types, especially if they plan to spend most of time exploring city rather than staying at hotel.\n",
        "\n",
        "**Resort hotel room preferences:**\n",
        "\n",
        "**- Leisure and vacation:** resort hotels often cater to leisure travelers and vacationers who may seek spacious and themed rooms.\n",
        "\n",
        "**- Amenities and activities:** Guests at resort hotels often look for amenities and activities like water sports, restaurant, music area. Their room preferences may align with easy access to these facilities.\n"
      ],
      "metadata": {
        "id": "_WtzZ_hCYuh4"
      }
    },
    {
      "cell_type": "markdown",
      "source": [
        "#### **Chart - 7 Customer type Analysis**"
      ],
      "metadata": {
        "id": "PIIx-8_IphqN"
      }
    },
    {
      "cell_type": "code",
      "source": [
        "customer = hotel_df.groupby('customer_type')['customer_type'].value_counts()\n",
        "customer"
      ],
      "metadata": {
        "id": "LvgYFDeL5fyJ"
      },
      "execution_count": null,
      "outputs": []
    },
    {
      "cell_type": "code",
      "source": [
        "# Chart - 7 visualization code\n",
        "sns.countplot(data = hotel_df, x = 'customer_type')\n",
        "plt.xlabel('Customer Types')\n",
        "plt.ylabel('Number of Bookings')\n",
        "plt.title('Customer type Analysis',fontweight='bold')\n",
        "plt.show()"
      ],
      "metadata": {
        "id": "lqAIGUfyphqO"
      },
      "execution_count": null,
      "outputs": []
    },
    {
      "cell_type": "markdown",
      "source": [
        "##### 1. Why did you pick the specific chart?"
      ],
      "metadata": {
        "id": "t27r6nlMphqO"
      }
    },
    {
      "cell_type": "markdown",
      "source": [
        "**Bar plot:** A bar plot is used to visualize the relationship between categorical variable and a numerical variable. Here customer type is a categorical variable and no. of bookings is numerical variable"
      ],
      "metadata": {
        "id": "iv6ro40sphqO"
      }
    },
    {
      "cell_type": "markdown",
      "source": [
        "##### 2. What is/are the insight(s) found from the chart?"
      ],
      "metadata": {
        "id": "r2jJGEOYphqO"
      }
    },
    {
      "cell_type": "markdown",
      "source": [
        "\"Transient\" type customer has significant majority of bookings 82.36%, \"Transient-party\" is the next most bookings 13.4% followed by \"Contract\" type customers with 3.6% of bookings and Group with 0.62% of customers"
      ],
      "metadata": {
        "id": "Po6ZPi4hphqO"
      }
    },
    {
      "cell_type": "markdown",
      "source": [
        "##### 3. Will the gained insights help creating a positive business impact?\n",
        "Are there any insights that lead to negative growth? Justify with specific reason."
      ],
      "metadata": {
        "id": "b0JNsNcRphqO"
      }
    },
    {
      "cell_type": "markdown",
      "source": [
        "**Positive bussiness impact:** Transient customers are highly booked bussiness can continue to target and cater to this segment, strategies to attract and retain these customers shall be implemented.\n",
        "\n",
        "**Negative grrowth or concerns:** Low number of bookings for group customers may indicate a negative impact on revenue from this segment, budiness might consider implementing marketing campaigns or promotions to increase revenue in this segment.\n",
        "\n",
        "**additional consideration:** understanding the reasons behind bookings of each segment like property size, amenities, visiting nearest locations these insights help in making promotions."
      ],
      "metadata": {
        "id": "xvSq8iUTphqO"
      }
    },
    {
      "cell_type": "markdown",
      "source": [
        "#### **Chart - 8 Booking changes Analysis**"
      ],
      "metadata": {
        "id": "x-EpHcCOp1ci"
      }
    },
    {
      "cell_type": "code",
      "source": [
        "# Chart - 11 visualization code\n",
        "hotel_df['booking_changes'].value_counts()\n",
        "sns.countplot(data = hotel_df, x= 'booking_changes', hue = 'hotel')\n",
        "plt.xlabel('No. of booking changes')\n",
        "plt.ylabel('count of booking changes')\n",
        "plt.title('Booking chnages Analysis', fontweight = 'bold')\n",
        "plt.show()"
      ],
      "metadata": {
        "id": "mAQTIvtqp1cj"
      },
      "execution_count": null,
      "outputs": []
    },
    {
      "cell_type": "markdown",
      "source": [
        "##### 1. Why did you pick the specific chart?"
      ],
      "metadata": {
        "id": "X_VqEhTip1ck"
      }
    },
    {
      "cell_type": "markdown",
      "source": [
        "**counter plot:** A counter plot is also known as countplot, is used to visualize the frequency or count of categorical data, it displays the the number of occureneces of each category within a single categorical variable."
      ],
      "metadata": {
        "id": "-vsMzt_np1ck"
      }
    },
    {
      "cell_type": "markdown",
      "source": [
        "##### 2. What is/are the insight(s) found from the chart?"
      ],
      "metadata": {
        "id": "8zGJKyg5p1ck"
      }
    },
    {
      "cell_type": "markdown",
      "source": [
        "Data shows that significant number of bookings have no changes i,e. 71,494 has 0 changes, substantial number of bookings are with minimum no. of changes"
      ],
      "metadata": {
        "id": "ZYdMsrqVp1ck"
      }
    },
    {
      "cell_type": "markdown",
      "source": [
        "##### 3. Will the gained insights help creating a positive business impact?\n",
        "Are there any insights that lead to negative growth? Justify with specific reason."
      ],
      "metadata": {
        "id": "PVzmfK_Ep1ck"
      }
    },
    {
      "cell_type": "markdown",
      "source": [
        "**Positive Business Impact:**\n",
        "\n",
        "**Customer Preferences and Flexibility:** Understanding the frequency of booking changes can help the hotel tailor its booking policies and offerings to match customer preferences for flexibility. It can offer flexible booking options that allow customers to make changes without penalty, potentially attracting more bookings.\n",
        "\n",
        "**Resource Allocation:** The hotel can adjust its staffing and room allocation strategies based on booking change patterns. For example, during peak periods of changes, the hotel can allocate more resources to handle customer requests efficiently.\n",
        "\n",
        "**Negative business impact:**\n",
        "\n",
        "**Operational Challenges:** If the hotel does not effectively manage bookings with frequent changes, it can lead to operational challenges. For instance, last-minute changes can strain resources staff/amenities and room availability.\n",
        "\n",
        "**Customer Experience:** Flexibility is important factor, but too many changes can disrupt the booking managements and lead to dissatisfaction. achieveing the right balance between flexibility and stability is crucial.\n",
        "\n",
        "**Loss of Efficiency:** Managing a large number of booking changes can be administratively difficult and lead to inefficiencies if not handled properly."
      ],
      "metadata": {
        "id": "druuKYZpp1ck"
      }
    },
    {
      "cell_type": "markdown",
      "source": [
        "#### **Chart - 9 Booking confirmation Time**"
      ],
      "metadata": {
        "id": "n3dbpmDWp1ck"
      }
    },
    {
      "cell_type": "code",
      "source": [
        "# Chart - 12 visualization code\n",
        "waiting_time = hotel_df.groupby('hotel')['days_in_waiting_list'].mean().reset_index()\n",
        "sns.barplot(x=waiting_time['hotel'], y=waiting_time['days_in_waiting_list'])\n",
        "plt.xlabel('Hotel type')\n",
        "plt.ylabel('waiting time in days')\n",
        "plt.title('Booking confirmation time', fontweight = 'bold')\n",
        "plt.show()"
      ],
      "metadata": {
        "id": "bwevp1tKp1ck"
      },
      "execution_count": null,
      "outputs": []
    },
    {
      "cell_type": "markdown",
      "source": [
        "##### 1. Why did you pick the specific chart?"
      ],
      "metadata": {
        "id": "ylSl6qgtp1ck"
      }
    },
    {
      "cell_type": "markdown",
      "source": [
        "**Bar plot:** A bar plot is used to visualize the relationship between categorical variable and a numerical variable. Here hotel type is a categorical variable and waiting time is numerical variable"
      ],
      "metadata": {
        "id": "m2xqNkiQp1ck"
      }
    },
    {
      "cell_type": "markdown",
      "source": [
        "##### 2. What is/are the insight(s) found from the chart?"
      ],
      "metadata": {
        "id": "ZWILFDl5p1ck"
      }
    },
    {
      "cell_type": "markdown",
      "source": [
        "Data shows that, average guests at the \"City Hotel\" experience a longer waiting time (approximately 1.02 days) in the waiting list compared to guests at the \"Resort Hotel,\" the average waiting time is significantly shorter (approximately 0.32 days)."
      ],
      "metadata": {
        "id": "x-lUsV2mp1ck"
      }
    },
    {
      "cell_type": "markdown",
      "source": [
        "##### 3. Will the gained insights help creating a positive business impact?\n",
        "Are there any insights that lead to negative growth? Justify with specific reason."
      ],
      "metadata": {
        "id": "M7G43BXep1ck"
      }
    },
    {
      "cell_type": "markdown",
      "source": [
        "**Positive Business Impact:**\n",
        "\n",
        "**Efficiency Improvements:** The insights suggest that the \"Resort Hotel\" has a more efficient booking process with shorter waiting times. This can be seen as a positive aspect for the \"Resort Hotel,\" as shorter waiting times are generally preferred by guests.\n",
        "\n",
        "**Customer Satisfaction:** Shorter waiting times can contribute to higher customer satisfaction, as guests appreciate a quick and hassle-free booking experience. Satisfied customers are more likely to return and recommend the hotel to others.\n",
        "\n",
        "**Operational Efficiency:** For the \"Resort Hotel,\" shorter waiting times may indicate effective reservation management, reducing the chances of overbooking or underbooking rooms.\n",
        "\n",
        "**Negative business Impacts:**\n",
        "\n",
        "**Long Waiting Time:** For the \"City Hotel\" the longer average waiting time could lead to potential negative impacts. Guests who have to wait longer for their bookings to be confirmed may become frustrated or choose other hotels with faster confirmation.\n",
        "\n",
        "**Reduced Bookings confirmations:** Lengthy waiting times may discourage potential guests from completing their bookings, resulting in reduced conversion rates and potential loss of revenue.\n",
        "\n",
        "**Operational Challenges:** The \"City Hotel\" may face operational challenges in managing reservations with longer waiting times. It may need to allocate more resources to handle booking confirmations efficiently.\n"
      ],
      "metadata": {
        "id": "5wwDJXsLp1cl"
      }
    },
    {
      "cell_type": "markdown",
      "source": [
        "#### **Chart - 10 Booking deposit Analysis**"
      ],
      "metadata": {
        "id": "Ag9LCva-p1cl"
      }
    },
    {
      "cell_type": "code",
      "source": [
        "# Chart - 13 visualization code\n",
        "deposit = hotel_df.groupby('hotel')['deposit_type'].value_counts()\n",
        "deposit"
      ],
      "metadata": {
        "id": "EUfxeq9-p1cl"
      },
      "execution_count": null,
      "outputs": []
    },
    {
      "cell_type": "code",
      "source": [
        "sns.countplot(data = hotel_df, x='deposit_type', hue = 'hotel')\n",
        "plt.xlabel('Deposite type')\n",
        "plt.ylabel('No. of cancelations')\n",
        "plt.title('Booking deposit Analysis', fontweight = 'bold')\n",
        "plt.show()"
      ],
      "metadata": {
        "id": "zi3ArOZcLQxL"
      },
      "execution_count": null,
      "outputs": []
    },
    {
      "cell_type": "markdown",
      "source": [
        "##### 1. Why did you pick the specific chart?"
      ],
      "metadata": {
        "id": "E6MkPsBcp1cl"
      }
    },
    {
      "cell_type": "markdown",
      "source": [
        "**counter plot:** A counter plot is also known as countplot, is used to visualize the frequency or count of categorical data, it displays the the number of occureneces of each category within a single categorical variable."
      ],
      "metadata": {
        "id": "V22bRsFWp1cl"
      }
    },
    {
      "cell_type": "markdown",
      "source": [
        "##### 2. What is/are the insight(s) found from the chart?"
      ],
      "metadata": {
        "id": "2cELzS2fp1cl"
      }
    },
    {
      "cell_type": "markdown",
      "source": [
        "The data shows the distribution of deposit types for guests at City Hotel and Resort Hotel.\n",
        "\n",
        "**For City Hotel:**\n",
        "\n",
        "- \"No Deposit\" is the most common deposit type (52,568 bookings).\n",
        "- \"Non Refund\" is the second most common deposit type (844 bookings).\n",
        "- \"Refundable\" is the least common deposit type (15 bookings)\n",
        "\n",
        "**For Resort Hotel:**\n",
        "\n",
        "- \"No Deposit\" is the most common deposit type (33,683 bookings).\n",
        "- \"Non Refund\" is the second most common deposit type (193 bookings).\n",
        "- \"Refundable\" is also present but less common compared to the other two types (92 bookings)."
      ],
      "metadata": {
        "id": "ozQPc2_Ip1cl"
      }
    },
    {
      "cell_type": "markdown",
      "source": [
        "##### 3. Will the gained insights help creating a positive business impact?\n",
        "Are there any insights that lead to negative growth? Justify with specific reason."
      ],
      "metadata": {
        "id": "3MPXvC8up1cl"
      }
    },
    {
      "cell_type": "markdown",
      "source": [
        "**Positive Business impacts:**\n",
        "\n",
        "**Understanding Customer Preferences:** These insights help hotels understand their guests' deposit preferences. For example, the majority of guests at both hotels prefer \"No Deposit,\" indicating that flexibility in payment is valued.\n",
        "\n",
        "**Booking Flexibility:** Offering a variety of deposit options, including \"No Deposit,\" can attract a broader range of guests and enhance booking flexibility.\n",
        "\n",
        "**Revenue Management:** Knowing which deposit types are most popular allows hotels to optimize their revenue management strategies, such as pricing and booking policies, to maximize revenue while meeting customer preferences.\n",
        "\n",
        "**Negative business Impact:**\n",
        "\n",
        "**Risk management:**  \"No Deposit\" may be popular, it poses risk to hotels because guests can cancel without penalty. If not managed properly, a high percentage of \"No Deposit\" bookings may lead to revenue loss due to cancellations.\n",
        "\n",
        "**Cash Flow Considerations:** Depending on the deposit type, hotels may receive payments at different times. For example, \"No Deposit\" guests pay upon arrival, while \"Refundable\" guests may have already paid in advance. Managing cash flow and financial planning is important to ensure the hotel's stability.\n",
        "\n",
        "**Customer Satisfaction:** Mismanagement of deposit types, especially when guests expect refunds, can lead to dissatisfaction and negative reviews if refunds are delayed or mishandled.\n"
      ],
      "metadata": {
        "id": "GL8l1tdLp1cl"
      }
    },
    {
      "cell_type": "markdown",
      "source": [
        "#### **Chart - 11 - Correlation Heatmap**"
      ],
      "metadata": {
        "id": "NC_X3p0fY2L0"
      }
    },
    {
      "cell_type": "code",
      "source": [
        "# Correlation Heatmap visualization code\n",
        "hotel_df.corr()"
      ],
      "metadata": {
        "id": "xyC9zolEZNRQ"
      },
      "execution_count": null,
      "outputs": []
    },
    {
      "cell_type": "code",
      "source": [
        "plt.figure(figsize=(20,12))\n",
        "ax = sns.heatmap(hotel_df.corr(numeric_only=True), annot = True,linewidth = 0.5, fmt = '.2f', cmap = 'plasma')\n",
        "plt.title('correlation of hotel analysis', fontweight = 'bold', fontsize = 30)\n",
        "plt.xticks(fontsize = 20)\n",
        "plt.yticks(fontsize = 20)\n",
        "plt.show()\n"
      ],
      "metadata": {
        "id": "R5x1Q9d3wZE-"
      },
      "execution_count": null,
      "outputs": []
    },
    {
      "cell_type": "markdown",
      "source": [
        "**-1 indicating a strong negative correlation**\n",
        "\n",
        "**0 indicating no correlation**\n",
        "\n",
        "**indicating a strong positive correlation between two variables**"
      ],
      "metadata": {
        "id": "x9IAgnbZhWqQ"
      }
    },
    {
      "cell_type": "markdown",
      "source": [
        "##### 1. Why did you pick the specific chart?"
      ],
      "metadata": {
        "id": "UV0SzAkaZNRQ"
      }
    },
    {
      "cell_type": "markdown",
      "source": [
        "Heatmap: A correlation heatmap is a graphical representation of a correlation matrix, where the correlation coefficients between multiple variables are displayed in a matrix format using colors to represent the strength and direction of the relationships between the variables. Correlation coefficients quantify the degree to which two variables are linearly related to each other."
      ],
      "metadata": {
        "id": "DVPuT8LYZNRQ"
      }
    },
    {
      "cell_type": "markdown",
      "source": [
        "##### 2. What is/are the insight(s) found from the chart?"
      ],
      "metadata": {
        "id": "YPEH6qLeZNRQ"
      }
    },
    {
      "cell_type": "markdown",
      "source": [
        "**1. correlation between \"is_canceled\" & \"lead_time\":** \"is_canceled\" has a moderate positive correlation with \"lead_time\" (0.18). This suggests that as the lead time increases, the likelihood of a booking being canceled also increases.\n",
        "\n",
        "**2. correlation between \"is_canceled\" & \"total_of_special_requests\":** \"is_canceled\" has a negative correlation with \"total_of_special_requests\" (-0.12). Fewer special requests may indicate a higher chance of cancellation.\n",
        "\n",
        "**3. correlation between \"is_canceled\" & \"required_car_parking_spaces\":** \"is_canceled\" has a negative correlation with \"required_car_parking_spaces\" (-0.18), suggesting that bookings with parking space requirements may have a higher cancellation rate.\n",
        "\n",
        " **4. Correlation between \"total_stay\" and \"lead time\":**\n",
        "\"total_stay\" has positive correlations with \"lead_time\" (0.32). This suggests that longer stays are associated with longer lead times and potentially higher average daily rates.\n",
        "\n",
        "**5. stay in weekend nights\" has a correlation of 0.24 with \"lead time\":** This suggests a weak positive linear relationship between the number of weekend nights stayed and the lead time. As the lead time increases, the number of weekend nights stayed tends to increase slightly.\n",
        "\n",
        "**6. \"stay in week nights\" has a correlation of 0.31 with \"lead time\":** This indicates a weak positive linear relationship between the number of week nights stayed and the lead time. As the lead time increases, the number of week nights stayed tends to increase slightly.\n",
        "\n",
        "**7. \"stay in week nights\" has a correlation of 0.56 with \"stay in weekend nights\":** This suggests a moderate positive linear relationship between the number of week nights stayed and the number of weekend nights stayed. When guests stay more week nights, they also tend to stay more weekend nights, which is a logical relationship.\n",
        "\n",
        "**8. \"previous booking not canceled\" has a correlation of 0.44 with \"is a repeated guest\":** This indicates a moderate positive linear relationship between the two variables. Guests who have not canceled previous bookings are more likely to be repeated guests.\n",
        "\n",
        "**9. \"previous booking not canceled\" has a correlation of 0.39 with \"previous cancellation\":**\n",
        "There is a moderate positive linear relationship between the variable \"previous booking not canceled\" and \"previous cancellation.\" This suggests that guests who have a history of not canceling bookings tend to have fewer previous cancellations.\n",
        "\n",
        "**10. \"adr\" has a correlation of 0.26 with \"adults\":**\n",
        "There is a weak positive linear relationship between the average daily rate (adr) and the number of adults. As the number of adults increases, the average daily rate tends to increase slightly.\n",
        "\n",
        "**10.1 \"adr\" has a correlation of 0.35 with \"children\":** There is a moderate positive linear relationship between the average daily rate (adr) and the number of children. As the number of children increases, the average daily rate tends to increase.\n",
        "\n",
        "**11. \"total guests\" has a correlation of 0.41 with \"adr\":** There is a moderate positive linear relationship between the total number of guests and the average daily rate (adr). As the number of guests increases, the average daily rate tends to increase.\n",
        "\n"
      ],
      "metadata": {
        "id": "bfSqtnDqZNRR"
      }
    },
    {
      "cell_type": "markdown",
      "source": [
        "#### **Chart - 12 - Pair Plots for various columns**"
      ],
      "metadata": {
        "id": "q29F0dvdveiT"
      }
    },
    {
      "cell_type": "markdown",
      "source": [
        "**Pair plot-1 for Booking related columns:**\n",
        "\n",
        "\n",
        "- 'lead_time': This column represents the number of days between booking and arrival. It can be interesting to see how lead time relates to other booking-related variables.\n",
        "- 'stays_in_weekend_nights': This column represents the number of weekend nights stayed.\n",
        "- 'stays_in_week_nights': This column represents the number of week nights stayed.\n",
        "- 'booking_changes': This column represents the number of changes made to the booking."
      ],
      "metadata": {
        "id": "I5l0kjIyA6Ha"
      }
    },
    {
      "cell_type": "code",
      "source": [
        "# Pair Plot-1 visualization\n",
        "\n",
        "Booking_related_columns = hotel_df[['hotel','lead_time', 'stays_in_weekend_nights', 'stays_in_week_nights' , 'booking_changes']].copy()\n",
        "\n",
        "sns.pairplot(data = Booking_related_columns, hue = 'hotel')"
      ],
      "metadata": {
        "id": "o58-TEIhveiU"
      },
      "execution_count": null,
      "outputs": []
    },
    {
      "cell_type": "markdown",
      "source": [
        "**Pair plot-2 Guest-related columns**\n",
        "\n",
        "- 'adults': This column represents the number of adults in the booking.\n",
        "- 'children': This column represents the number of children in the booking.\n",
        "- 'babies': This column represents the number of babies in the booking.\n",
        "- 'total_of_special_requests': This column represents the total number of special requests made by guests during their stay.\n"
      ],
      "metadata": {
        "id": "uebJzjnsG3-B"
      }
    },
    {
      "cell_type": "code",
      "source": [
        "# Pair Plot-2 visualization\n",
        "\n",
        "Guest_related_columns = hotel_df[['hotel','adults', 'children', 'babies', 'total_of_special_requests']].copy()\n",
        "Guest_related_columns\n",
        "sns.pairplot(Guest_related_columns, hue = 'hotel')"
      ],
      "metadata": {
        "id": "3saWprloGOof"
      },
      "execution_count": null,
      "outputs": []
    },
    {
      "cell_type": "markdown",
      "source": [
        "**pair plot-3 Booking cancelation history**\n",
        "\n",
        "- 'previous_cancellations': The number of previous cancellations by the guest.\n",
        "- 'previous_bookings_not_canceled': The number of previous bookings that were not canceled by the guest.\n",
        "- 'is_repeated_guest': Indicates whether the guest is a repeated guest (binary, 0 or 1).\n",
        "\n"
      ],
      "metadata": {
        "id": "Vy32d_-kHh6Z"
      }
    },
    {
      "cell_type": "code",
      "source": [
        "# Pair Plot-3 visualization\n",
        "\n",
        "Booking_cancelation_history = hotel_df[['hotel', 'previous_cancellations', 'previous_bookings_not_canceled', 'is_repeated_guest', 'adr']]\n",
        "\n",
        "sns.pairplot(Booking_cancelation_history, hue = 'hotel')"
      ],
      "metadata": {
        "id": "BVCkzoBXGOlE"
      },
      "execution_count": null,
      "outputs": []
    },
    {
      "cell_type": "markdown",
      "source": [
        "##### 1. Why did you pick the specific chart?"
      ],
      "metadata": {
        "id": "EXh0U9oCveiU"
      }
    },
    {
      "cell_type": "markdown",
      "source": [
        "A pair plot is a data visualization technique that allows us to plot pairwise relationships between variables within a dataset, pairs of numerical variables in a dataset, aiding in the exploration of relationships, correlations, and outliers.\n",
        "\n",
        "\n",
        "\n",
        "\n"
      ],
      "metadata": {
        "id": "eMmPjTByveiU"
      }
    },
    {
      "cell_type": "markdown",
      "source": [
        "##### 2. What is/are the insight(s) found from the chart?"
      ],
      "metadata": {
        "id": "22aHeOlLveiV"
      }
    },
    {
      "cell_type": "markdown",
      "source": [
        "**Pair plot-1 Booking related Columns:**\n",
        "- A positive correlation between 'stays_in_weekend_nights' and 'stays_in_week_nights,' indicating that guests who stay more on weekends also tend to stay more on weekdays.\n",
        "- 'lead_time' has near to zero correlation with 'booking_changes,' suggesting that guests who book in advance are less likely to make changes to their booking.\n",
        "\n",
        "**Pair plot-2 Guest related Columns:**\n",
        "- Observing the plot, it becomes evident that guests with a higher number of adults tend to make more special requests and additionally, in resort hotels there is an increased frequency of special requests.\n",
        "\n",
        "**Pair plot-3 Booking cancelation HIstory:**\n",
        "- In the context of resort hotels, it's notable that repeated guests tend to have a higher rate of previous booking cancellations. Furthermore, within this category of hotels, there is a discernible pattern where the average daily rate (ADR) tends to be higher when previous cancellations have occurred.\n",
        "\n",
        "\n",
        "\n",
        "\n",
        "\n"
      ],
      "metadata": {
        "id": "uPQ8RGwHveiV"
      }
    }
  ]
}