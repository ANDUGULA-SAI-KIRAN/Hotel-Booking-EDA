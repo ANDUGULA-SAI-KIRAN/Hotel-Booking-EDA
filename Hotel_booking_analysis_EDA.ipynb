{
  "nbformat": 4,
  "nbformat_minor": 0,
  "metadata": {
    "colab": {
      "private_outputs": true,
      "provenance": [],
      "collapsed_sections": [
        "vncDsAP0Gaoa",
        "yQaldy8SH6Dl",
        "mDgbUHAGgjLW",
        "HhfV-JJviCcP",
        "3RnN4peoiCZX",
        "x71ZqKXriCWQ",
        "7hBIi_osiCS2",
        "nA9Y7ga8ng1Z",
        "dauF4eBmngu3",
        "bKJF3rekwFvQ",
        "MSa1f5Uengrz",
        "GF8Ens_Soomf",
        "0wOQAZs5pc--",
        "KSlN3yHqYklG",
        "EM7whBJCYoAo",
        "fge-S5ZAYoAp",
        "4Of9eVA-YrdM",
        "iky9q4vBYrdO",
        "OH-pJp9IphqM",
        "RA9NwkeAxfxo",
        "BZR9WyysphqO",
        "jj7wYXLtphqO",
        "eZrbJ2SmphqO",
        "n3dbpmDWp1ck",
        "ylSl6qgtp1ck",
        "ZWILFDl5p1ck",
        "__VGyv5IKgHT",
        "MnjFnDauw-OH",
        "titdJuVe2JIM",
        "YJ55k-q6phqO",
        "U2RJ9gkRphqQ",
        "x-EpHcCOp1ci",
        "Ag9LCva-p1cl",
        "NC_X3p0fY2L0",
        "q29F0dvdveiT",
        "JcMwzZxoAimU",
        "8G2x9gOozGDZ",
        "gCX9965dhzqZ",
        "gIfDvo9L0UH2"
      ],
      "include_colab_link": true
    },
    "kernelspec": {
      "name": "python3",
      "display_name": "Python 3"
    },
    "language_info": {
      "name": "python"
    }
  },
  "cells": [
    {
      "cell_type": "markdown",
      "metadata": {
        "id": "view-in-github",
        "colab_type": "text"
      },
      "source": [
        "<a href=\"https://colab.research.google.com/github/ANDUGULA-SAI-KIRAN/Hotel-Booking-EDA/blob/main/Hotel_booking_analysis_EDA.ipynb\" target=\"_parent\"><img src=\"https://colab.research.google.com/assets/colab-badge.svg\" alt=\"Open In Colab\"/></a>"
      ]
    },
    {
      "cell_type": "markdown",
      "source": [
        "# **Project Name**    - Hotel Booking Analysis\n",
        "\n"
      ],
      "metadata": {
        "id": "vncDsAP0Gaoa"
      }
    },
    {
      "cell_type": "markdown",
      "source": [
        "##### **Project Type**    - EDA\n",
        "##### **Contribution**    - Team\n",
        "##### **Team Member 1 - ANDUGULA SAI KIRAN(self)**\n",
        "##### **Team Member 2 - Y CHANDRODAY**\n",
        "\n"
      ],
      "metadata": {
        "id": "beRrZCGUAJYm"
      }
    },
    {
      "cell_type": "markdown",
      "source": [
        "# **Project Summary -**"
      ],
      "metadata": {
        "id": "FJNUwmbgGyua"
      }
    },
    {
      "cell_type": "markdown",
      "source": [
        "**In the realm of hotel bookings and hospitality management, a comprehensive analysis can yield valuable insights into guest behaviors, preferences, and industry trends. This project aims to unravel the nuances(opinion) of hotel bookings by employing a diverse array of data exploration and analysis techniques. The dataset has features such as booking cancellations, lead times, guest demographics, and reservation details, offers a wealth of information to be unearthed.**\n",
        "\n",
        "The primary objectives of this project is, investigation of booking cancellations. We aim to discover patterns that may influence the likelihood of a bookings being cancelled. This understanding can be improve strategies to minimize cancellations and optimize booking processes.\n",
        "\n",
        "Seasonal booking patterns come into play as we delve into the temporal distribution of bookings across months. Such analysis can uncover trends, revealing peak seasons and quieter periods, thereby facilitating efficient resource allocation and marketing strategies. Moreover, guest demographics analysis provides a window into the origins of guests and their accompanying adults, children, and babies. This information could be invaluable for targeted marketing campaigns.\n",
        "\n",
        "An exploration of booking channels contributes to a better grasp of the distribution channels through which reservations are made. By identifying trends associated with different channels, the hotel can optimize marketing efforts and distribution strategies to maximize bookings.\n",
        "\n",
        "Furthermore, the interaction between special requests and cancellations is scrutinized. Are special requests correlated with booking cancellations? This analysis could uncover whether meeting guest expectations for special requests might influence their decision to cancel a booking.\n",
        "\n",
        "Demographics and customer types are vital aspects of the hospitality industry. By identifying patterns in customer types and analyzing their booking behaviors, the project aims to provide insights that could lead to tailored services and enhanced customer experiences.\n",
        "\n",
        "The dataset's numeric features offer the opportunity for correlation analysis, affording a closer look at relationships between different variables. A correlation heatmap and pair plot can uncover hidden dependencies, potentially guiding decision-making processes.\n",
        "\n",
        "In conclusion, this hotel booking analysis project sets out to unlock the power of data for informed decision-making in the hospitality sector. By blending exploratory data analysis and correlation studies, the project aims to empower hotel managers with insights that can optimize resource allocation, marketing strategies, and guest experiences. The resulting impact on guest satisfaction and operational efficiency could potentially reshape the landscape of hotel management."
      ],
      "metadata": {
        "id": "F6v_1wHtG2nS"
      }
    },
    {
      "cell_type": "markdown",
      "source": [
        "# **GitHub Link -**"
      ],
      "metadata": {
        "id": "w6K7xa23Elo4"
      }
    },
    {
      "cell_type": "markdown",
      "source": [
        "https://github.com/ANDUGULA-SAI-KIRAN/Hotel-Booking-EDA"
      ],
      "metadata": {
        "id": "h1o69JH3Eqqn"
      }
    },
    {
      "cell_type": "markdown",
      "source": [
        "# **Problem Statement**\n"
      ],
      "metadata": {
        "id": "yQaldy8SH6Dl"
      }
    },
    {
      "cell_type": "markdown",
      "source": [
        "**In the dynamic landscape of hotel management, understanding the complexities of booking behaviors, cancellations, guest preferences, uncovering seasonal trends, understanding guest demographics, deciphering the role of booking channels, optimizing operational efficiency and enhancing guest satisfaction. Resulting in optimized operational strategies, predicting booking cancellations, identifying influential factors, and tailoring services to meet guest expectations and a competitive edge in the ever-evolving world of hospitality management.**\n"
      ],
      "metadata": {
        "id": "4HVL4y-qUCoJ"
      }
    },
    {
      "cell_type": "markdown",
      "source": [
        "#### **Define Your Business Objective?**"
      ],
      "metadata": {
        "id": "PH-0ReGfmX4f"
      }
    },
    {
      "cell_type": "markdown",
      "source": [
        "**The primary business objective for hotel booking is to optimize revenue generation, operational efficiency, and guest satisfaction by leveraging data-driven insights and strategies. This encompasses several specific goals aimed to achieving sustainable growth and providing exceptional experiences to guests**"
      ],
      "metadata": {
        "id": "PhDvGCAqmjP1"
      }
    },
    {
      "cell_type": "markdown",
      "source": [
        "# **General Guidelines** : -  "
      ],
      "metadata": {
        "id": "mDgbUHAGgjLW"
      }
    },
    {
      "cell_type": "markdown",
      "source": [
        "1.   Well-structured, formatted, and commented code is required.\n",
        "2.   Exception Handling, Production Grade Code & Deployment Ready Code will be a plus. Those students will be awarded some additional credits.\n",
        "     \n",
        "     The additional credits will have advantages over other students during Star Student selection.\n",
        "       \n",
        "             [ Note: - Deployment Ready Code is defined as, the whole .ipynb notebook should be executable in one go\n",
        "                       without a single error logged. ]\n",
        "\n",
        "3.   Each and every logic should have proper comments.\n",
        "4. You may add as many number of charts you want. Make Sure for each and every chart the following format should be answered.\n",
        "        \n",
        "\n",
        "```\n",
        "# Chart visualization code\n",
        "```\n",
        "            \n",
        "\n",
        "*   Why did you pick the specific chart?\n",
        "*   What is/are the insight(s) found from the chart?\n",
        "* Will the gained insights help creating a positive business impact?\n",
        "Are there any insights that lead to negative growth? Justify with specific reason.\n",
        "\n",
        "5. You have to create at least 20 logical & meaningful charts having important insights.\n",
        "\n",
        "\n",
        "[ Hints : - Do the Vizualization in  a structured way while following \"UBM\" Rule.\n",
        "\n",
        "U - Univariate Analysis,\n",
        "\n",
        "B - Bivariate Analysis (Numerical - Categorical, Numerical - Numerical, Categorical - Categorical)\n",
        "\n",
        "M - Multivariate Analysis\n",
        " ]\n",
        "\n",
        "\n",
        "\n"
      ],
      "metadata": {
        "id": "ZrxVaUj-hHfC"
      }
    },
    {
      "cell_type": "markdown",
      "source": [
        "# ***Let's Begin !***"
      ],
      "metadata": {
        "id": "O_i_v8NEhb9l"
      }
    },
    {
      "cell_type": "markdown",
      "source": [
        "## ***1. Know Your Data***"
      ],
      "metadata": {
        "id": "HhfV-JJviCcP"
      }
    },
    {
      "cell_type": "markdown",
      "source": [
        "### Import Libraries"
      ],
      "metadata": {
        "id": "Y3lxredqlCYt"
      }
    },
    {
      "cell_type": "code",
      "source": [
        "import numpy as np\n",
        "import pandas as pd\n",
        "import matplotlib.pyplot as plt\n",
        "import seaborn as sns\n",
        "#from google.colab import drive\n",
        "#drive.mount('/content/drive')"
      ],
      "metadata": {
        "id": "M8Vqi-pPk-HR"
      },
      "execution_count": null,
      "outputs": []
    },
    {
      "cell_type": "markdown",
      "source": [
        "### Dataset Loading"
      ],
      "metadata": {
        "id": "3RnN4peoiCZX"
      }
    },
    {
      "cell_type": "markdown",
      "source": [
        "Data set link - https://drive.google.com/file/d/1HhW1A9kcUbE4l2kVsH4yQ7eln2p9VYmF/view?usp=sharing"
      ],
      "metadata": {
        "id": "Ec6Dh9ZHaITK"
      }
    },
    {
      "cell_type": "code",
      "source": [
        "data = pd.read_csv('/content/Hotel Bookings.csv')\n",
        "hotel_df = pd.DataFrame(data)"
      ],
      "metadata": {
        "id": "4CkvbW_SlZ_R"
      },
      "execution_count": null,
      "outputs": []
    },
    {
      "cell_type": "markdown",
      "source": [
        "### Dataset First View"
      ],
      "metadata": {
        "id": "x71ZqKXriCWQ"
      }
    },
    {
      "cell_type": "code",
      "source": [
        "# Dataset First Look\n",
        "pd.set_option('display.max_columns',32)  #displays all column names\n",
        "hotel_df.head() #displays 1st five rows"
      ],
      "metadata": {
        "id": "LWNFOSvLl09H"
      },
      "execution_count": null,
      "outputs": []
    },
    {
      "cell_type": "markdown",
      "source": [
        "### Dataset Rows & Columns count"
      ],
      "metadata": {
        "id": "7hBIi_osiCS2"
      }
    },
    {
      "cell_type": "code",
      "source": [
        "# Dataset Rows & Columns count\n",
        "hotel_df.shape # displays the count of rows and columns"
      ],
      "metadata": {
        "id": "Kllu7SJgmLij"
      },
      "execution_count": null,
      "outputs": []
    },
    {
      "cell_type": "markdown",
      "source": [
        "### Dataset Information"
      ],
      "metadata": {
        "id": "JlHwYmJAmNHm"
      }
    },
    {
      "cell_type": "code",
      "source": [
        "# Dataset Info\n",
        "hotel_df.info()  #displays the total count of non-null values and data types"
      ],
      "metadata": {
        "id": "e9hRXRi6meOf"
      },
      "execution_count": null,
      "outputs": []
    },
    {
      "cell_type": "markdown",
      "source": [
        "#### Duplicate Values"
      ],
      "metadata": {
        "id": "35m5QtbWiB9F"
      }
    },
    {
      "cell_type": "code",
      "source": [
        "# Dataset Duplicate Value Count\n",
        "len(hotel_df[hotel_df.duplicated()])  #gives total number of duplicated values"
      ],
      "metadata": {
        "id": "1sLdpKYkmox0"
      },
      "execution_count": null,
      "outputs": []
    },
    {
      "cell_type": "markdown",
      "source": [
        "#### Missing Values/Null Values"
      ],
      "metadata": {
        "id": "PoPl-ycgm1ru"
      }
    },
    {
      "cell_type": "code",
      "source": [
        "# Missing Values/Null Values Count\n",
        "print(hotel_df.isnull().sum()) #gives total count of null values in each column"
      ],
      "metadata": {
        "id": "GgHWkxvamxVg"
      },
      "execution_count": null,
      "outputs": []
    },
    {
      "cell_type": "code",
      "source": [
        "# Visualizing the missing values\n",
        "sns.heatmap(hotel_df.isnull(), cbar = False)"
      ],
      "metadata": {
        "id": "3q5wnI3om9sJ"
      },
      "execution_count": null,
      "outputs": []
    },
    {
      "cell_type": "markdown",
      "source": [
        "### What did you know about your dataset?"
      ],
      "metadata": {
        "id": "H0kj-8xxnORC"
      }
    },
    {
      "cell_type": "markdown",
      "source": [
        "The dataset offers a wealth of information about hotel bookings like factors affect hotel booking, guest demographics, preferences, booking cancellations and booking outcomes. Aiming to provide valuable insights to hotel management to enhance their operations and services, ultimately improving guest experiences."
      ],
      "metadata": {
        "id": "gfoNAAC-nUe_"
      }
    },
    {
      "cell_type": "markdown",
      "source": [
        "## ***2. Understanding Your Variables***"
      ],
      "metadata": {
        "id": "nA9Y7ga8ng1Z"
      }
    },
    {
      "cell_type": "code",
      "source": [
        "# Dataset Columns\n",
        "hotel_df.columns"
      ],
      "metadata": {
        "id": "j7xfkqrt5Ag5"
      },
      "execution_count": null,
      "outputs": []
    },
    {
      "cell_type": "code",
      "source": [
        "# Dataset Describe\n",
        "hotel_df.describe(include = 'all')"
      ],
      "metadata": {
        "id": "DnOaZdaE5Q5t"
      },
      "execution_count": null,
      "outputs": []
    },
    {
      "cell_type": "markdown",
      "source": [
        "### Variables Description"
      ],
      "metadata": {
        "id": "PBTbrJXOngz2"
      }
    },
    {
      "cell_type": "markdown",
      "source": [
        "* **hotel:** Type of hotel (resort hotel or city hotel)\n",
        "\n",
        "* **is_canceled:** Indicates whether the booking was canceled (1) or not (0).\n",
        "\n",
        "* **lead_time:** Number of days that elapsed between the entering date of booking into the PMS and the arrival date.\n",
        "* **arrival_date_year:** Year of arrival.\n",
        "* **arrival_date_month:** Month of arrival.\n",
        "* **arrival_date_week_number:** Week number of the year for arrival.\n",
        "* **arrival_date_day_of_month:** Date of arrival in that month.\n",
        "* **stays_in_weekend_nights:** Number of weekend nights (Saturday or Sunday) the guest stayed or booked to stay at hotel.\n",
        "* **stays_in_week_nights:** Number of weeknights(Monday to Friday) the guest stayed or booked to stay at hotel.\n",
        "* **adults:** number of adults among the guests.\n",
        "* **children:** number of children among the guests.\n",
        "* **babies:** Number of babies among the guests.\n",
        "* **meal:** Type of meal opted during stay.\n",
        "* **country:** Country of origin of the guest.\n",
        "* **market_segment:** designation of market segment.\n",
        "* **distribution_channel:** Name of Booking distribution channel.\n",
        "* **is_repeated_guest:** Indicates if the guest is a repeated guest (1) or not repeated guest (0).\n",
        "* **previous_cancellations:** Number of previous booking cancellations by the guest prior to current booking.\n",
        "* **previous_bookings_not_canceled:** Number of previous bookings not cancelled by the guest prior to current booking.\n",
        "* **reserved_room_type:** Code of the room type reserved.\n",
        "* **assigned_room_type:** Code of the room type assigned.\n",
        "* **booking_changes:** Number of changes made to the booking.\n",
        "* **deposit_type:** Type of deposit made for the booking.\n",
        "* **agent:** ID of the travel agent making the booking.\n",
        "* **company:** ID of the company/entity making the booking.\n",
        "* **days_in_waiting_list:** Number of days the booking was in the waiting list before confirmed.\n",
        "* **customer_type:** Type of booking, such as transient, contract, group, or other.\n",
        "* **adr:** Average daily rate.\n",
        "* **required_car_parking_spaces:** Number of car parking spaces required by the client.\n",
        "* **total_of_special_requests:** Number of special requests made by the guest.\n",
        "* **reservation_status:** Current status of the reservation.\n",
        "* **reservation_status_date:** Date at which the last status was updated."
      ],
      "metadata": {
        "id": "aJV4KIxSnxay"
      }
    },
    {
      "cell_type": "markdown",
      "source": [
        "### Check Unique Values for each variable."
      ],
      "metadata": {
        "id": "u3PMJOP6ngxN"
      }
    },
    {
      "cell_type": "code",
      "source": [
        "# Check Unique Values for each variable.\n",
        "print(hotel_df.apply(lambda col: col.unique()))"
      ],
      "metadata": {
        "id": "zms12Yq5n-jE"
      },
      "execution_count": null,
      "outputs": []
    },
    {
      "cell_type": "markdown",
      "source": [
        "## 3. ***Data Wrangling***"
      ],
      "metadata": {
        "id": "dauF4eBmngu3"
      }
    },
    {
      "cell_type": "markdown",
      "source": [
        "### Data Wrangling Code"
      ],
      "metadata": {
        "id": "bKJF3rekwFvQ"
      }
    },
    {
      "cell_type": "markdown",
      "source": [
        "**Step 1: Removing duplicate rows if any**"
      ],
      "metadata": {
        "id": "kcMtvMvjBVQQ"
      }
    },
    {
      "cell_type": "code",
      "source": [
        "#1 checking for any duplicate rows\n",
        "print('total number of rows and columns',hotel_df.shape)\n",
        "hotel_df.drop_duplicates(inplace = True)\n",
        "print('total number of rows and columns after removing duplicates',hotel_df.shape)"
      ],
      "metadata": {
        "id": "wk-9a2fpoLcV"
      },
      "execution_count": null,
      "outputs": []
    },
    {
      "cell_type": "markdown",
      "source": [
        "**step 2: handling mising values**"
      ],
      "metadata": {
        "id": "PxNbjWrlBwEU"
      }
    },
    {
      "cell_type": "code",
      "source": [
        "# 2 checking for null values in data set and replacing the null values with according to column data type\n",
        "hotel_df.isnull().sum().sort_values(ascending = False) # gives the sum of null values in each column\n",
        "\n",
        "#2.1 Deletion of company column:\n",
        "hotel_df.drop(['company'], axis =1, inplace = True)\n",
        "\n",
        "#2.2 Filling null values with 0 for column agent:\n",
        "hotel_df['agent'].fillna(0, inplace = True)\n",
        "\n",
        "#2.3 replacing null values with others\n",
        "hotel_df['country'].fillna('others', inplace = True)\n",
        "\n",
        "#2.4 replacing null values in children column with 0:\n",
        "hotel_df['children'].fillna(0, inplace = True)"
      ],
      "metadata": {
        "id": "nXDsjtGo3_7x"
      },
      "execution_count": null,
      "outputs": []
    },
    {
      "cell_type": "markdown",
      "source": [
        "**step 3: Type casting(conversion of data type)**"
      ],
      "metadata": {
        "id": "mSaJK3MGzOm2"
      }
    },
    {
      "cell_type": "code",
      "source": [
        "#type casting children & agent columns from float to int:\n",
        "hotel_df[['children','agent']] = hotel_df[['children','agent']].astype('int64')\n",
        "\n",
        "#type casting reservation_status_date from object to date time:\n",
        "hotel_df['reservation_status_date'] = pd.to_datetime(hotel_df['reservation_status_date'], format = '%Y-%m-%d')"
      ],
      "metadata": {
        "id": "nAAWdRJ4p2pe"
      },
      "execution_count": null,
      "outputs": []
    },
    {
      "cell_type": "markdown",
      "source": [
        "**step 4: column assignment/adding**\n"
      ],
      "metadata": {
        "id": "NLk4ZkSE6mgz"
      }
    },
    {
      "cell_type": "code",
      "source": [
        "#assigning a new column \"total_guests\" by adding follwoin columns adults, children, babies\n",
        "hotel_df['total_guests'] = hotel_df.children + hotel_df.babies + hotel_df.adults\n",
        "\n",
        "#assigning new column \"total_stay\" by adding following columns stays_in_weekend_nights & stays_in_week_nights\n",
        "hotel_df['total_stay'] = hotel_df.stays_in_weekend_nights + hotel_df.stays_in_week_nights"
      ],
      "metadata": {
        "id": "xQacCk1J41Gl"
      },
      "execution_count": null,
      "outputs": []
    },
    {
      "cell_type": "markdown",
      "source": [
        "**step 5: removing outliers:**"
      ],
      "metadata": {
        "id": "wQpDeThX_FfF"
      }
    },
    {
      "cell_type": "code",
      "source": [
        "'''\n",
        "the following rows contains total guests count as 0, other entries in these rows are filled with\n",
        "values, we can assume booking were made and guests didn't checkin, therefore we can delete these rows\n",
        "'''\n",
        "print('total number of rows with total guests as 0 is:',hotel_df[hotel_df['total_guests'] == 0].shape)\n",
        "# or hotel_df[hotel_df['children'] + hotel_df['adults'] + hotel_df['babies'] ==0].shape\n"
      ],
      "metadata": {
        "id": "dbjd_OGo15Sf"
      },
      "execution_count": null,
      "outputs": []
    },
    {
      "cell_type": "code",
      "source": [
        "#displaying the outlier in scatter plot\n",
        "plt.figure(figsize = (12,6))\n",
        "sns.scatterplot(data= hotel_df, x= 'total_stay', y= 'adr', label = 'scatter plot with outlier')"
      ],
      "metadata": {
        "id": "MKMVIrDy9sra"
      },
      "execution_count": null,
      "outputs": []
    },
    {
      "cell_type": "code",
      "source": [
        "#displaying the plot after removing outlier\n",
        "hotel_df.drop(hotel_df[hotel_df['adr']> 5000].index, inplace = True ) #removing the outlier which is above 5000\n",
        "plt.figure(figsize = (12,6))\n",
        "sns.scatterplot(data= hotel_df, x= 'total_stay', y= 'adr', label = 'scatter plot without outlier')\n",
        "plt.show()\n",
        "print('shape of data frame is ',hotel_df.shape)"
      ],
      "metadata": {
        "id": "0DYJ3tQV9skc"
      },
      "execution_count": null,
      "outputs": []
    },
    {
      "cell_type": "markdown",
      "source": [
        "### What all manipulations have you done and insights you found?"
      ],
      "metadata": {
        "id": "MSa1f5Uengrz"
      }
    },
    {
      "cell_type": "markdown",
      "source": [
        "**1. Duplicates rows were investigated within the dataset:** The initial dataset comprised 119,390 rows, and subsequent removal of duplicate entries resulted in 87,396 remaining rows."
      ],
      "metadata": {
        "id": "LbyXE7I1olp8"
      }
    },
    {
      "cell_type": "markdown",
      "source": [
        "**2. handling cleaning & missing values:**\n",
        "\n",
        "2.1 The \"Company\" column contains a null values of 82,137 out off 87,396 which is 94%. This level of missing data can significantly impact the accuracy and reliability of analysis performed on data set, Hence delete the company column makes sense.\n",
        "\n",
        "2.2 The \"agent\" column represents agent ID, column contains 12,193 null values out of 87,396 which is 14%. this indicates that there was no assigned agent for that particular bookings, by replacing null with 0, the column remains consistent interms of data type(integer) and can be included in data manipulation without issues related to missing data.\n",
        "\n",
        "2.3 The \"Country\" column represents country code of hotel, column contains 452 null values out of 87,396 which is 0.52%, country code for these hotels were missing, by replacing null values with 'others', the column remains consistent interms of data type(string) and can be included in data manipulations without issues related to missing data.\n",
        "\n",
        "2.4 The \"Children\" column represents number of children stayed at hotel along with adults. column contains 4 null values out of 87,396 which is very less, by replacing null values with 0.\n",
        "\n",
        "**therefore by this step we have removed all duplicated rows and null values in each column were replaced.**"
      ],
      "metadata": {
        "id": "j8s3R8BSl7Nv"
      }
    },
    {
      "cell_type": "markdown",
      "source": [
        "**3. Type casting:**\n",
        "\n",
        "type casting involves changing the data type of a variable or value from one type to another, it plays a crucial role in data manipulation like data compatibility, data integrity and mathematical operations"
      ],
      "metadata": {
        "id": "by_3ApglzMbH"
      }
    },
    {
      "cell_type": "markdown",
      "source": [
        "**4. column assignment/adding:**\n",
        "\n",
        "- A new column has been assigned \"total guests\" it represents total count of guests, by adding following columns \"adults\", \"children\", \"babies.\"\n",
        "- A new column has been assigned \"total stay\" it represents total count of stay in days, by assing following columns \"stay in weekend nights\" & \"stay in week nights.\""
      ],
      "metadata": {
        "id": "Zcq5GBAB3FYR"
      }
    },
    {
      "cell_type": "markdown",
      "source": [
        "**5. Removing Outlier:**\n",
        "Outliers are data points that significantly deviate from the majority of data points in dataset, these extreme values can distort statistical measures and models. leading to inaccurate or biased results.\n",
        "Here after obeserving the plot majority data points in average daily rate is around 500 units and only on data point is above 5000 which doesn't make any sense, hence removing the outlier. **by this step total rows are 87,395 and columns are 33**"
      ],
      "metadata": {
        "id": "ljGGoW0U51nX"
      }
    },
    {
      "cell_type": "markdown",
      "source": [
        "## ***4. Data Vizualization, Storytelling & Experimenting with charts : Understand the relationships between variables***"
      ],
      "metadata": {
        "id": "GF8Ens_Soomf"
      }
    },
    {
      "cell_type": "markdown",
      "source": [
        "### **Univariate Analysis -**"
      ],
      "metadata": {
        "id": "XtkFu4iaobvr"
      }
    },
    {
      "cell_type": "markdown",
      "source": [
        "#### **Chart - 1 City Hotel vs. Resort hotel bookings Analysis**"
      ],
      "metadata": {
        "id": "0wOQAZs5pc--"
      }
    },
    {
      "cell_type": "code",
      "source": [
        "# Chart - 1 visualization code\n",
        "hotel_type = hotel_df['hotel'].value_counts() # value count gives the sum of similar value in columns\n",
        "hotel_type.reset_index()"
      ],
      "metadata": {
        "id": "7v_ESjsspbW7"
      },
      "execution_count": null,
      "outputs": []
    },
    {
      "cell_type": "code",
      "source": [
        "# Chart - 1 visualization plot\n",
        "hotel_type.plot.pie(x= 'City Hotel', y='Resort Hotel',\n",
        "                    autopct='%.2f%%',textprops={'weight': 'bold'}) #plots a pie plot\n",
        "plt.title('Hotel Booking percentage', fontweight=\"bold\", size=12 )\n",
        "plt.xlabel('')\n",
        "plt.ylabel('')\n",
        "plt.show()"
      ],
      "metadata": {
        "id": "Zj75eCoepUhn"
      },
      "execution_count": null,
      "outputs": []
    },
    {
      "cell_type": "markdown",
      "source": [
        "##### 1. Why did you pick the specific chart?"
      ],
      "metadata": {
        "id": "K5QZ13OEpz2H"
      }
    },
    {
      "cell_type": "markdown",
      "source": [
        "A pie chart is effective to represent a categorial data as a part-to-whole relationship(percentage of each category)"
      ],
      "metadata": {
        "id": "XESiWehPqBRc"
      }
    },
    {
      "cell_type": "markdown",
      "source": [
        "##### 2. What is/are the insight(s) found from the chart?"
      ],
      "metadata": {
        "id": "lQ7QKXXCp7Bj"
      }
    },
    {
      "cell_type": "markdown",
      "source": [
        "Data shows that city hotel has more bookings which is 61% compared to resort hotel which is 39%."
      ],
      "metadata": {
        "id": "C_j1G7yiqdRP"
      }
    },
    {
      "cell_type": "markdown",
      "source": [
        "##### 3. Will the gained insights help creating a positive business impact?\n",
        "Are there any insights that lead to negative growth? Justify with specific reason."
      ],
      "metadata": {
        "id": "448CDAPjqfQr"
      }
    },
    {
      "cell_type": "markdown",
      "source": [
        "**From the obeservation made from plot**\n",
        "\n",
        "**City Hotel:**\n",
        "\n",
        "**positive business impact:** City hotel has year-round demand of bookings due various reasons like bussiness travelers, tourists, conventions. This consistent flow of visitors can provide a stable revenue throught year.\n",
        "\n",
        "**Negative business impact:** Even after having year-round demand compitition is high, to achieve maximum bookings hotel prices shall be minimum compared to market pricing by compromising profit margins, not compromising in providing services.\n",
        "\n",
        "**Resort Hotel:**\n",
        "\n",
        "**positive business impact:** resort hotels have there own advantage of providing guests a relaxing and leisure-focused experience, resort hotels are usually booked for vacations, holiday trips, wedding ceremony's, etc,. this lead to longer stays of guests.\n",
        "\n",
        "Apart from room rates resort hotel provides various amenities like spas, swimming pool, loud music, dance floors, recretional activities etc,. which gives additional revenue.\n",
        "\n",
        "\n",
        "**Negative business impact:** Resort hotel are highly seasonal dependency with peak demand during vacations and festival holidays this can lead to reduced occupancy and revenue. since resorts provide various amenities maintenance costs increases during non-season maintaining these expenses is high."
      ],
      "metadata": {
        "id": "3cspy4FjqxJW"
      }
    },
    {
      "cell_type": "markdown",
      "source": [
        "#### **Chart - 2 Seasonal and Yearly Hotel Booking Patterns**"
      ],
      "metadata": {
        "id": "KSlN3yHqYklG"
      }
    },
    {
      "cell_type": "code",
      "source": [
        "# Chart - 2 visualization code/plot\n",
        "#yearly booking patterns - comparision of bookings for both hotels by year\n",
        "sns.countplot(x= 'arrival_date_year', data = hotel_df, hue = 'hotel')\n",
        "plt.title('Yearly booking patterns', fontweight = 'bold', size=12)\n",
        "plt.xlabel('year',fontweight = 'bold')\n",
        "plt.ylabel('No. of bookings',fontweight = 'bold')\n",
        "plt.show()"
      ],
      "metadata": {
        "id": "cFJVyeQRqRdV"
      },
      "execution_count": null,
      "outputs": []
    },
    {
      "cell_type": "code",
      "source": [
        "#sum of city hotel bookings month wise\n",
        "city_hotel_df = hotel_df[hotel_df['hotel'] == 'City Hotel'] #gives output of only city hotels list\n",
        "city_hotel_booking = city_hotel_df.arrival_date_month.value_counts() #groups the column month and gives sum of guests arrival in  specific month\n",
        "city_hotel_booking"
      ],
      "metadata": {
        "id": "R4YgtaqtYklH"
      },
      "execution_count": null,
      "outputs": []
    },
    {
      "cell_type": "code",
      "source": [
        "#sum of resort hotel bookings month wise\n",
        "resort_hotel_df =  hotel_df[hotel_df['hotel'] == 'Resort Hotel'] #gives output of only resort hotel list\n",
        "resort_hotel_booking = resort_hotel_df['arrival_date_month'].value_counts() #groups the column month and gives sum of guests arrival in  specific month\n",
        "resort_hotel_booking"
      ],
      "metadata": {
        "id": "HlmJCkPhS4UE"
      },
      "execution_count": null,
      "outputs": []
    },
    {
      "cell_type": "code",
      "source": [
        "#seasonal booking patterns - comparision of bookings for both hotels by months\n",
        "plt.figure(figsize = (12,6))\n",
        "sns.countplot(data = hotel_df, x = 'arrival_date_month', hue = 'hotel')\n",
        "plt.title('Seasonal booking patterns', fontweight = 'bold', size = 12)\n",
        "plt.xlabel('booking moths')\n",
        "plt.ylabel('No. of bookings')\n",
        "plt.show()"
      ],
      "metadata": {
        "id": "Mo_B-12wrPDJ"
      },
      "execution_count": null,
      "outputs": []
    },
    {
      "cell_type": "markdown",
      "source": [
        "##### 1. Why did you pick the specific chart?"
      ],
      "metadata": {
        "id": "t6dVpIINYklI"
      }
    },
    {
      "cell_type": "markdown",
      "source": [
        "**counter plot:** A counter plot is also known as countplot, is used to visualize the frequency or count of categorical data, it displays the the number of occureneces of each category within a single categorical variable."
      ],
      "metadata": {
        "id": "5aaW0BYyYklI"
      }
    },
    {
      "cell_type": "markdown",
      "source": [
        "##### 2. What is/are the insight(s) found from the chart?"
      ],
      "metadata": {
        "id": "ijmpgYnKYklI"
      }
    },
    {
      "cell_type": "markdown",
      "source": [
        "**Bookings by Year:**\n",
        "\n",
        "booking patterns by year shows there are high bookings in year 2016 compared to 2015 & 2017, there isn't much data to predict why bookings were high.\n",
        "\n",
        "**Bookings by Month:**\n",
        "\n",
        "Booking patterns by month shows there are high bookings in month of july & august and low in month of november. december and january\n"
      ],
      "metadata": {
        "id": "PSx9atu2YklI"
      }
    },
    {
      "cell_type": "markdown",
      "source": [
        "##### 3. Will the gained insights help creating a positive business impact?\n",
        "Are there any insights that lead to negative growth? Justify with specific reason."
      ],
      "metadata": {
        "id": "-JiQyfWJYklI"
      }
    },
    {
      "cell_type": "markdown",
      "source": [
        "**Bookings by month:**\n",
        "\n",
        "**positive:** by observing the plot, clearly we can see bookings are high in month of 'july' & 'august' and low in the month of 'november', 'december','january'.\n",
        "according to these months we can maintain staff/service employees more in high booking months and low staff in low booking months by this we can not only optimise the revenue in long periods and provide adequate services and amenities for all guests in busy months."
      ],
      "metadata": {
        "id": "BcBbebzrYklV"
      }
    },
    {
      "cell_type": "markdown",
      "source": [
        "#### **Chart - 3 Average Daily Rate Analysis**"
      ],
      "metadata": {
        "id": "EM7whBJCYoAo"
      }
    },
    {
      "cell_type": "code",
      "source": [
        "# Chart - 3 visualization code\n",
        "adr_mean = hotel_df.groupby('hotel')['adr'].mean().reset_index() #grouping by column 'hotel' and calculating mean\n",
        "adr_mean"
      ],
      "metadata": {
        "id": "t6GMdE67YoAp"
      },
      "execution_count": null,
      "outputs": []
    },
    {
      "cell_type": "code",
      "source": [
        "# Chart - 3 visualization plot\n",
        "sns.barplot(x=adr_mean.hotel\t, y= adr_mean.adr) #plots a bar plot\n",
        "plt.title('Average Daily Rate', fontweight = 'bold', size = 12)\n",
        "plt.xlabel('Hotel Type', fontweight = 'bold')\n",
        "plt.ylabel('Rate Units', fontweight = 'bold')\n",
        "plt.show()"
      ],
      "metadata": {
        "id": "9Dp80VC1IJ4G"
      },
      "execution_count": null,
      "outputs": []
    },
    {
      "cell_type": "markdown",
      "source": [
        "##### 1. Why did you pick the specific chart?"
      ],
      "metadata": {
        "id": "fge-S5ZAYoAp"
      }
    },
    {
      "cell_type": "markdown",
      "source": [
        "**Bar plot:** A bar plot is used to visualize the relationship between categorical variable and a numerical variable. Here hotel is a categorical variable and adr is numerical variable"
      ],
      "metadata": {
        "id": "5dBItgRVYoAp"
      }
    },
    {
      "cell_type": "markdown",
      "source": [
        "##### 2. What is/are the insight(s) found from the chart?"
      ],
      "metadata": {
        "id": "85gYPyotYoAp"
      }
    },
    {
      "cell_type": "markdown",
      "source": [
        "The \"City hotel\" generates a higher average daily revenue (ADR) compared to the \"Resort hotel.\" Mean ADR of \"City hotel\" is approximately 110.89, whereas the mean ADR for the \"Resort hotel\" is approximately 99.03."
      ],
      "metadata": {
        "id": "4jstXR6OYoAp"
      }
    },
    {
      "cell_type": "markdown",
      "source": [
        "##### 3. Will the gained insights help creating a positive business impact?\n",
        "Are there any insights that lead to negative growth? Justify with specific reason."
      ],
      "metadata": {
        "id": "RoGjAbkUYoAp"
      }
    },
    {
      "cell_type": "markdown",
      "source": [
        "Resort hotel and City hotel has there own purposes. City hotels are mostly occupied with bussiness meetings/conferences, city tourisms etc,. while resort hotels are mostly located city outskirts with greenery and lake view sites. Guests mostly prefer to visit resort hotels for vacations, wedding events to get relax.\n",
        "\n",
        "**areas to focus for bussiness imporvements:**\n",
        "\n",
        "**- identifying city hotels strengths:** identifying fators that contribute to city hotel success such as location, services, amenities, pricing strategy and implimenting them to resort hotel.\n",
        "\n",
        "**- Diversify offerings:** diversifying the services and amenities at hotels like conference facilities, restaurants, entertainment options etc,. this can attract more guests.\n",
        "\n",
        "**- Market research:** conducting a market research to understand why guests prefer the city hotel over resort hotel, using this information to tailor marketing efforts and services to meet customer expectations.\n",
        "\n",
        "**- Online presence/ digital marketing:** Implimenting digital marketing strtegies to attract more customers, improving their user experience and transactions smooth. (in next plot we will be plotting booking percentage by distribution channel for more insights)"
      ],
      "metadata": {
        "id": "zfJ8IqMcYoAp"
      }
    },
    {
      "cell_type": "markdown",
      "source": [
        "#### **Chart - 4 Booking Channel preferrence Analysis**"
      ],
      "metadata": {
        "id": "4Of9eVA-YrdM"
      }
    },
    {
      "cell_type": "code",
      "source": [
        "# Chart - 4 visualization code\n",
        "booking_distribution = hotel_df['distribution_channel'].value_counts() #calculates sum of values in distribution channel column, total bookings = 87395\n",
        "booking_distribution = pd.DataFrame(booking_distribution).reset_index()\n",
        "booking_distribution #shows tha distribution channel with number of bookings"
      ],
      "metadata": {
        "id": "irlUoxc8YrdO"
      },
      "execution_count": null,
      "outputs": []
    },
    {
      "cell_type": "code",
      "source": [
        "total_bookings = hotel_df['distribution_channel'].value_counts().sum()\n",
        "booking_distribution['booking_percentage'] = (booking_distribution['distribution_channel']/total_bookings) * 100\n",
        "booking_distribution #a new column has created showing percentage of booking channels"
      ],
      "metadata": {
        "id": "gVvRqNwQxcdR"
      },
      "execution_count": null,
      "outputs": []
    },
    {
      "cell_type": "code",
      "source": [
        "# Chart - 4 visualization plot\n",
        "sns.barplot(data = booking_distribution, x = 'index', y= 'booking_percentage')\n",
        "plt.xlabel('Booking Distribution Channels',fontweight = 'bold')\n",
        "plt.ylabel('Booking Percentage',fontweight = 'bold')\n",
        "plt.title('Booking Channel Preference Analysis', fontweight = 'bold', size = 12 )\n",
        "plt.show()"
      ],
      "metadata": {
        "id": "r2ocFodltObI"
      },
      "execution_count": null,
      "outputs": []
    },
    {
      "cell_type": "markdown",
      "source": [
        "##### 1. Why did you pick the specific chart?"
      ],
      "metadata": {
        "id": "iky9q4vBYrdO"
      }
    },
    {
      "cell_type": "markdown",
      "source": [
        "**Bar plot:** A bar plot is used to visualize the relationship between categorical variable and a numerical variable. Here booking distribution channel is a categorical variable and booking percentage is numerical variable"
      ],
      "metadata": {
        "id": "aJRCwT6DYrdO"
      }
    },
    {
      "cell_type": "markdown",
      "source": [
        "##### 2. What is/are the insight(s) found from the chart?"
      ],
      "metadata": {
        "id": "F6T5p64dYrdO"
      }
    },
    {
      "cell_type": "markdown",
      "source": [
        "The majority of bookings (79.11%) come through Travel Agents/Tour Operators (TA/TO), indicating the significance of this distribution channel. This insight highlights the importance of maintaining strong relationships with TA/TO partners.\n",
        "\n",
        "\n",
        "Direct bookings account is smaller but notable share (14.86%) of the total bookings, indicating the value of the hotel's online presence and marketing efforts in attracting guests directly. Encouraging more direct bookings can lead to cost savings from reduced commissions to third-party agents."
      ],
      "metadata": {
        "id": "Xx8WAJvtYrdO"
      }
    },
    {
      "cell_type": "markdown",
      "source": [
        "##### 3. Will the gained insights help creating a positive business impact?\n",
        "Are there any insights that lead to negative growth? Justify with specific reason."
      ],
      "metadata": {
        "id": "y-Ehk30pYrdP"
      }
    },
    {
      "cell_type": "markdown",
      "source": [
        "From obeservations made from graph we can make certian benchmark for each distribution channels and monitoring for each month or quarterly, by this we understand which distribution channel to focus more for improvements"
      ],
      "metadata": {
        "id": "jLNxxz7MYrdP"
      }
    },
    {
      "cell_type": "markdown",
      "source": [
        "#### **Chart - 5 Meal Preference Analysis**"
      ],
      "metadata": {
        "id": "OH-pJp9IphqM"
      }
    },
    {
      "cell_type": "code",
      "source": [
        "# Chart - 5 visualization code\n",
        "preferred_meal_df = hotel_df['meal'].value_counts().reset_index() #gives the sum pf meal types\n",
        "preferred_meal_df # calculats the sum of values in meal column"
      ],
      "metadata": {
        "id": "kuRf4wtuphqN"
      },
      "execution_count": null,
      "outputs": []
    },
    {
      "cell_type": "code",
      "source": [
        "def meal_name(index): #renaming meal names with full names\n",
        "  for i in index:\n",
        "    if i in 'BB':\n",
        "      return 'Bed and Breakfast'\n",
        "    elif i in 'SC':\n",
        "      return 'Self-Catering'\n",
        "    elif i in 'HB':\n",
        "      return 'Half Board'\n",
        "    elif i in 'FB':\n",
        "      return 'Full Board'\n",
        "    else:\n",
        "      return 'Undefined'"
      ],
      "metadata": {
        "id": "thP3NNlZtwtA"
      },
      "execution_count": null,
      "outputs": []
    },
    {
      "cell_type": "code",
      "source": [
        "preferred_meal_df['meal_names'] = preferred_meal_df['index'].apply(meal_name)\n",
        "preferred_meal_df"
      ],
      "metadata": {
        "id": "4j29VgTJuCgq"
      },
      "execution_count": null,
      "outputs": []
    },
    {
      "cell_type": "code",
      "source": [
        "# Chart - 5 visualization plot\n",
        "sns.barplot(data = preferred_meal_df, x = 'meal_names', y = 'meal') #plots a bar plot\n",
        "plt.xlabel('Type of Meal', fontweight = 'bold')\n",
        "plt.ylabel('No. of Meals', fontweight = 'bold')\n",
        "plt.title('Meal Preference Analysis',fontweight='bold', size = 12)\n",
        "plt.xticks(rotation = 40)\n",
        "plt.show()"
      ],
      "metadata": {
        "id": "Ed-N2IjEqUrD"
      },
      "execution_count": null,
      "outputs": []
    },
    {
      "cell_type": "markdown",
      "source": [
        "##### 1. Why did you pick the specific chart?"
      ],
      "metadata": {
        "id": "bbFf2-_FphqN"
      }
    },
    {
      "cell_type": "markdown",
      "source": [
        "**Bar plot:** A bar plot is used to visualize the relationship between categorical variable and a numerical variable. Here meal type is a categorical variable and count of meals is numerical variable"
      ],
      "metadata": {
        "id": "loh7H2nzphqN"
      }
    },
    {
      "cell_type": "markdown",
      "source": [
        "##### 2. What is/are the insight(s) found from the chart?"
      ],
      "metadata": {
        "id": "_ouA3fa0phqN"
      }
    },
    {
      "cell_type": "markdown",
      "source": [
        "\"Bed and Breakfast\" (BB) is the most popular meal option, representing a significant majority (approximately 79.62%) of bookings, followed by \"Self-Catering\" (SC) at 11.10% and \"Half Board\" (HB) at 10.64%. The \"Full Board\" (FB) option has a much smaller share of bookings (approximately 0.82%). Understanding these meal preferences can help tailor dining services and marketing strategies to guest preferences and potentially increase revenue by promoting certain meal plans."
      ],
      "metadata": {
        "id": "VECbqPI7phqN"
      }
    },
    {
      "cell_type": "markdown",
      "source": [
        "##### 3. Will the gained insights help creating a positive business impact?\n",
        "Are there any insights that lead to negative growth? Justify with specific reason."
      ],
      "metadata": {
        "id": "Seke61FWphqN"
      }
    },
    {
      "cell_type": "markdown",
      "source": [
        "**Positive impact:** Since most customers preffered BB type meal, the bussiness can promote and offer attractive packages with this meal plan.\n",
        "\n",
        "**Negative impact:** The low number of bookings for Full Board meal indicates a potential negative impact on revenue from this meal option. The business might consider adjusting pricing or marketing strategies to increase the popularity of Full Board packages.\n",
        "\n",
        "For further understanding taking customer feeback and preferences could provide more insights why guests are prefering certain meal than others"
      ],
      "metadata": {
        "id": "DW4_bGpfphqN"
      }
    },
    {
      "cell_type": "markdown",
      "source": [
        "#### **Chart - 6 Customer Type Analysis**"
      ],
      "metadata": {
        "id": "RA9NwkeAxfxo"
      }
    },
    {
      "cell_type": "code",
      "source": [
        "# Chart - 6 visualization code\n",
        "customer = hotel_df.groupby('customer_type')['customer_type'].value_counts() #goups by customer type and gives sum of values in column\n",
        "customer #groups by customer type and calculates the sum of values in 'customer type' column"
      ],
      "metadata": {
        "id": "TT-jM1aZxfxp"
      },
      "execution_count": null,
      "outputs": []
    },
    {
      "cell_type": "code",
      "source": [
        "# Chart - 6 visualization plot\n",
        "sns.countplot(data = hotel_df, x = 'customer_type') # plots the counter plot\n",
        "plt.xlabel('Customer Type', fontweight='bold')\n",
        "plt.ylabel('No. of Bookings', fontweight='bold')\n",
        "plt.title('Customer Type Analysis',fontweight='bold', size=12)\n",
        "plt.show()"
      ],
      "metadata": {
        "id": "BoaE3yssxfxp"
      },
      "execution_count": null,
      "outputs": []
    },
    {
      "cell_type": "markdown",
      "source": [
        "##### 1. Why did you pick the specific chart?"
      ],
      "metadata": {
        "id": "6oGa5JTaxfxp"
      }
    },
    {
      "cell_type": "markdown",
      "source": [
        "**Bar plot:** A bar plot is used to visualize the relationship between categorical variable and a numerical variable. Here customer type is a categorical variable and no. of bookings is numerical variable"
      ],
      "metadata": {
        "id": "L1CXyfLzxfxp"
      }
    },
    {
      "cell_type": "markdown",
      "source": [
        "##### 2. What is/are the insight(s) found from the chart?"
      ],
      "metadata": {
        "id": "Kj5VD0ekxfxq"
      }
    },
    {
      "cell_type": "markdown",
      "source": [
        "\"Transient\" type customer has significant majority of bookings 82.36%, \"Transient-party\" is the next most bookings 13.4% followed by \"Contract\" type customers with 3.6% of bookings and Group with 0.62% of customers"
      ],
      "metadata": {
        "id": "fQb1jI1Uxfxq"
      }
    },
    {
      "cell_type": "markdown",
      "source": [
        "##### 3. Will the gained insights help creating a positive business impact?\n",
        "Are there any insights that lead to negative growth? Justify with specific reason."
      ],
      "metadata": {
        "id": "fEkk7g7Yxfxq"
      }
    },
    {
      "cell_type": "markdown",
      "source": [
        "**Positive bussiness impact:** Transient customers are highly booked bussiness can continue to target and cater to this segment, strategies to attract and retain these customers shall be implemented.\n",
        "\n",
        "**Negative grrowth or concerns:** Low number of bookings for group customers may indicate a negative impact on revenue from this segment, business might consider implementing marketing campaigns or promotions to increase revenue in this segment.\n",
        "\n",
        "**additional consideration:** understanding the reasons behind bookings of each segment like property size, amenities, visiting nearest locations these insights help in making promotions."
      ],
      "metadata": {
        "id": "J-eBFTT2xfxq"
      }
    },
    {
      "cell_type": "markdown",
      "source": [
        "#### **Chart - 7 Repeated Guests Analysis**"
      ],
      "metadata": {
        "id": "BZR9WyysphqO"
      }
    },
    {
      "cell_type": "code",
      "source": [
        "# Chart - 7 visualization code\n",
        "repeated_guests = hotel_df['is_repeated_guest'].value_counts() #gives the sum of values in column\n",
        "repeated_guests = repeated_guests.reset_index()\n",
        "repeated_guests"
      ],
      "metadata": {
        "id": "TdPTWpAVphqO"
      },
      "execution_count": null,
      "outputs": []
    },
    {
      "cell_type": "code",
      "source": [
        "def repeated_guest(col): #replacing index column value '0' with 'not repeated guest' and '1' with 'repeated guest'\n",
        "  if col == 0:\n",
        "    return 'Not repeated Guest'\n",
        "  else:\n",
        "    return 'Repeated Guest'\n",
        "\n",
        "repeated_guests['index'] = repeated_guests['index'].apply(repeated_guest)\n",
        "repeated_guests = repeated_guests.rename(columns = {'index': 'Booking_type'})\n",
        "repeated_guests"
      ],
      "metadata": {
        "id": "C4dXOzkSd0eh"
      },
      "execution_count": null,
      "outputs": []
    },
    {
      "cell_type": "code",
      "source": [
        "# Chart - 7 visualization plot\n",
        "repeated_guests.plot.pie(y='is_repeated_guest',explode=[0.03, 0.03], autopct='%1.2f%%',\n",
        "                         figsize=(14,7), labels = repeated_guests.Booking_type, textprops={'weight': 'bold'})\n",
        "plt.title('Percentage of Repeated Guests ',fontsize = 12, fontweight = 'bold')\n",
        "plt.ylabel('')\n",
        "plt.show()"
      ],
      "metadata": {
        "id": "DQmjEZjaaqGE"
      },
      "execution_count": null,
      "outputs": []
    },
    {
      "cell_type": "markdown",
      "source": [
        "##### 1. Why did you pick the specific chart?"
      ],
      "metadata": {
        "id": "jj7wYXLtphqO"
      }
    },
    {
      "cell_type": "markdown",
      "source": [
        "A pie chart is effective to represent a categorial data as a part-to-whole relationship(percentage of each category)"
      ],
      "metadata": {
        "id": "Ob8u6rCTphqO"
      }
    },
    {
      "cell_type": "markdown",
      "source": [
        "##### 2. What is/are the insight(s) found from the chart?"
      ],
      "metadata": {
        "id": "eZrbJ2SmphqO"
      }
    },
    {
      "cell_type": "markdown",
      "source": [
        "Majority of Guests are 'Not repeated Guests' is significantly dominates with 96.09% while 'Repeated Guests' is 3.91%"
      ],
      "metadata": {
        "id": "mZtgC_hjphqO"
      }
    },
    {
      "cell_type": "markdown",
      "source": [
        "##### 3. Will the gained insights help creating a positive business impact?\n",
        "Are there any insights that lead to negative growth? Justify with specific reason."
      ],
      "metadata": {
        "id": "rFu4xreNphqO"
      }
    },
    {
      "cell_type": "markdown",
      "source": [
        "**positive business impacts:**\n",
        "\n",
        "**Customer retentions:** Having repeated guests is a positive sign as it indicates that the business has successfully retained a portion of its customer base, repeated customers are consistent revenue for hotels.\n",
        "\n",
        "**word of mouth marketing:** Satisfied/repeated guests may recommend their friends and family, contributing to positive word-of-mouth marketing.\n",
        "\n",
        "**Negative business impacts:**\n",
        "\n",
        "**Limited growth:** having repeated guests is beneficial, but low percentage indicates that majority of guests are not returning, this might limit the potential of growth through repeat bookings.\n",
        "\n",
        "**Customer attribution:** Its essential to understand why 96% of guests are not returning, customers dissatisfaction could be the reason, ddressing the reasons for this attrition is important to mitigate negative impacts."
      ],
      "metadata": {
        "id": "ey_0qi68phqO"
      }
    },
    {
      "cell_type": "markdown",
      "source": [
        "#### **Chart - 8 Booking Confirmation Time**"
      ],
      "metadata": {
        "id": "n3dbpmDWp1ck"
      }
    },
    {
      "cell_type": "code",
      "source": [
        "# Chart - 8 visualization code/plot\n",
        "waiting_time = hotel_df.groupby('hotel')['days_in_waiting_list'].mean().reset_index() #groupin by hotel type and calculating mean of days in waiting list\n",
        "sns.barplot(x=waiting_time['hotel'], y=waiting_time['days_in_waiting_list']) # plots a bar plot\n",
        "plt.xlabel('Hotel type', fontweight = 'bold')\n",
        "plt.ylabel('waiting time in days', fontweight = 'bold')\n",
        "plt.title('Booking confirmation time', fontweight = 'bold', size =12)\n",
        "plt.show()"
      ],
      "metadata": {
        "id": "bwevp1tKp1ck"
      },
      "execution_count": null,
      "outputs": []
    },
    {
      "cell_type": "markdown",
      "source": [
        "##### 1. Why did you pick the specific chart?"
      ],
      "metadata": {
        "id": "ylSl6qgtp1ck"
      }
    },
    {
      "cell_type": "markdown",
      "source": [
        "**Bar plot:** A bar plot is used to visualize the relationship between categorical variable and a numerical variable. Here hotel type is a categorical variable and waiting time is numerical variable"
      ],
      "metadata": {
        "id": "m2xqNkiQp1ck"
      }
    },
    {
      "cell_type": "markdown",
      "source": [
        "##### 2. What is/are the insight(s) found from the chart?"
      ],
      "metadata": {
        "id": "ZWILFDl5p1ck"
      }
    },
    {
      "cell_type": "markdown",
      "source": [
        "Data shows that, average guests at the \"City Hotel\" experience a longer waiting time (approximately 1.02 days) in the waiting list compared to guests at the \"Resort Hotel,\" the average waiting time is significantly shorter (approximately 0.32 days)."
      ],
      "metadata": {
        "id": "x-lUsV2mp1ck"
      }
    },
    {
      "cell_type": "markdown",
      "source": [
        "##### 3. Will the gained insights help creating a positive business impact?\n",
        "Are there any insights that lead to negative growth? Justify with specific reason."
      ],
      "metadata": {
        "id": "M7G43BXep1ck"
      }
    },
    {
      "cell_type": "markdown",
      "source": [
        "**Positive Business Impact:**\n",
        "\n",
        "**Efficiency Improvements:** The insights suggest that the \"Resort Hotel\" has a more efficient booking process with shorter waiting times. This can be seen as a positive aspect for the \"Resort Hotel,\" as shorter waiting times are generally preferred by guests.\n",
        "\n",
        "**Customer Satisfaction:** Shorter waiting times can contribute to higher customer satisfaction, as guests appreciate a quick and hassle-free booking experience. Satisfied customers are more likely to return and recommend the hotel to others.\n",
        "\n",
        "**Operational Efficiency:** For the \"Resort Hotel,\" shorter waiting times may indicate effective reservation management, reducing the chances of overbooking or underbooking rooms.\n",
        "\n",
        "**Negative business Impacts:**\n",
        "\n",
        "**Long Waiting Time:** For the \"City Hotel\" the longer average waiting time could lead to potential negative impacts. Guests who have to wait longer for their bookings to be confirmed may become frustrated or choose other hotels with faster confirmation.\n",
        "\n",
        "**Reduced Bookings confirmations:** Lengthy waiting times may discourage potential guests from completing their bookings, resulting in reduced conversion rates and potential loss of revenue.\n",
        "\n",
        "**Operational Challenges:** The \"City Hotel\" may face operational challenges in managing reservations with longer waiting times. It may need to allocate more resources to handle booking confirmations efficiently.\n"
      ],
      "metadata": {
        "id": "5wwDJXsLp1cl"
      }
    },
    {
      "cell_type": "markdown",
      "source": [
        "#### **Chart - 9 Booking Analysis by weekday or weekend**"
      ],
      "metadata": {
        "id": "__VGyv5IKgHT"
      }
    },
    {
      "cell_type": "code",
      "source": [
        "# Chart - 9 visualization code\n",
        "# Converting 'arrival_date' column to a datetime data type if it's not already\n",
        "hotel_df['arrival_date'] = pd.to_datetime(hotel_df['arrival_date_year'].astype(str) + '-' +\n",
        "                                          hotel_df['arrival_date_month'] + '-' +\n",
        "                                          hotel_df['arrival_date_day_of_month'].astype(str))\n",
        "\n",
        "# Extract the day of the week from the arrival date (0 = Monday, 6 = Sunday)\n",
        "hotel_df['day_of_week'] = hotel_df['arrival_date'].dt.dayofweek\n",
        "\n",
        "# Create a new column to categorize the days as 'Weekday' or 'Weekend'\n",
        "hotel_df['day_category'] = hotel_df['day_of_week'].apply(lambda x: 'Weekend' if x >= 5 else 'Weekday')\n",
        "\n",
        "# Group by the day category and hotel type, and count the number of bookings\n",
        "booking_counts = hotel_df.groupby(['day_category', 'hotel'])['hotel'].count().unstack(fill_value=0)\n",
        "\n",
        "booking_counts"
      ],
      "metadata": {
        "id": "vB5bMJphKgHh"
      },
      "execution_count": null,
      "outputs": []
    },
    {
      "cell_type": "code",
      "source": [
        "# Chart - 9 visualization plot\n",
        "#booking_counts.plot(kind='bar', stacked=False)\n",
        "booking_counts.plot.bar()\n",
        "plt.xlabel('Week Category', fontweight='bold')\n",
        "plt.ylabel('No. of Bookings', fontweight='bold')\n",
        "plt.xticks(rotation = 0)\n",
        "plt.title('Bookings by Weekday vs. Weekend', fontweight='bold', size=12)\n",
        "plt.show()"
      ],
      "metadata": {
        "id": "Jsa6HntMK2sX"
      },
      "execution_count": null,
      "outputs": []
    },
    {
      "cell_type": "markdown",
      "source": [
        "##### 1. Why did you pick the specific chart?"
      ],
      "metadata": {
        "id": "kbHVx5FXKgHi"
      }
    },
    {
      "cell_type": "markdown",
      "source": [
        "**Bar plot:** A bar plot is used to visualize the relationship between categorical variable and a numerical variable. Here Week Category is a categorical variable and No. of Bookings is numerical variable"
      ],
      "metadata": {
        "id": "gaMGGbK2KgHi"
      }
    },
    {
      "cell_type": "markdown",
      "source": [
        "##### 2. What is/are the insight(s) found from the chart?"
      ],
      "metadata": {
        "id": "kiQNLWIiKgHi"
      }
    },
    {
      "cell_type": "markdown",
      "source": [
        "- Week day  bookings are significantly higher than weekend bookings for both City Hotels and Resort Hotels.\n",
        "- City Hotels have a higher Bookings compared to Resort Hotels.\n",
        "- The difference in the number of bookings between City and Resort Hotels is more pronounced on weekdays."
      ],
      "metadata": {
        "id": "nv-pqTDlKgHi"
      }
    },
    {
      "cell_type": "markdown",
      "source": [
        "##### 3. Will the gained insights help creating a positive business impact?\n",
        "Are there any insights that lead to negative growth? Justify with specific reason."
      ],
      "metadata": {
        "id": "uASozZdHKgHj"
      }
    },
    {
      "cell_type": "markdown",
      "source": [
        "**Positive Business Impact:**\n",
        "\n",
        "**Optimizing weekday Business:**  Weekday bookings are substantially higher suggests an opportunity to focus marketing and promotional efforts on attracting more weekday guests. \"City Hotels\" can continue to invest in city-specific attractions, services, and partnerships to maintain their competitive advantage.\n",
        "\n",
        "**Potential Negative Growth:**\n",
        "\n",
        "**Weekend Booking Opportunities:** While weekend bookings are lower than weekdays for both hotel types, there is potential for growth in this area.\n",
        "Hotels could explore strategies to promote weekend stays, such as offering weekend getaway packages, entertainment options, or family-friendly activities.\n",
        "\n",
        "**Reducing Weekday-Weekend Disparity:** There significant difference in bookings between weekdays and weekends for both Hotels thls could lead to uneven revenue distribution. Efforts to reduce this disparity, such as offering weekend discounts or events, might help balance bookings throughout the week."
      ],
      "metadata": {
        "id": "uGSiy6dTKgHj"
      }
    },
    {
      "cell_type": "markdown",
      "source": [
        "### **Bivariate Analysis -**"
      ],
      "metadata": {
        "id": "Yd24kexayMWH"
      }
    },
    {
      "cell_type": "markdown",
      "source": [
        "#### **Chart - 10 ADR Across Distribution Channel**"
      ],
      "metadata": {
        "id": "MnjFnDauw-OH"
      }
    },
    {
      "cell_type": "code",
      "source": [
        "# Chart - 10 visualization code\n",
        "dist_channel = hotel_df.groupby(['distribution_channel','hotel'])['adr'].mean().reset_index()\n",
        "dist_channel #grouped by distribution channel & hotel, calculation mean of ADR"
      ],
      "metadata": {
        "id": "Tcwbhb-l7Eyd"
      },
      "execution_count": null,
      "outputs": []
    },
    {
      "cell_type": "code",
      "source": [
        "# Chart - 10 visualization plot\n",
        "plt.figure(figsize=(8,6))\n",
        "sns.barplot(data=dist_channel,x='distribution_channel',y='adr',hue='hotel')\n",
        "plt.title('ADR Across Distribution Channel', fontweight = 'bold', size =12)\n",
        "plt.xlabel('Distribution channels', fontweight = 'bold')\n",
        "plt.ylabel('Average Daily Revenue', fontweight = 'bold')\n",
        "plt.show()"
      ],
      "metadata": {
        "id": "0iDuHPhxw-OI"
      },
      "execution_count": null,
      "outputs": []
    },
    {
      "cell_type": "markdown",
      "source": [
        "##### 1. Why did you pick the specific chart?"
      ],
      "metadata": {
        "id": "Xd-z-Obaw-OI"
      }
    },
    {
      "cell_type": "markdown",
      "source": [
        "**Bar plot:** A bar plot is used to visualize the relationship between categorical variable and a numerical variable. Here Distribution channel is a categorical variable and ADR is numerical variable"
      ],
      "metadata": {
        "id": "KewsLOLiw-OJ"
      }
    },
    {
      "cell_type": "markdown",
      "source": [
        "##### 2. What is/are the insight(s) found from the chart?"
      ],
      "metadata": {
        "id": "1X1we5RDw-OJ"
      }
    },
    {
      "cell_type": "markdown",
      "source": [
        "- ADR in 'City Hotel' tends to be higher in 'Resort Hotel' across various distribution channels\n",
        "- 'Resort Hotel' under Corporate & Global Distribution System has much lower ADR compared to 'City Hotel'"
      ],
      "metadata": {
        "id": "8X2FhXnhw-OJ"
      }
    },
    {
      "cell_type": "markdown",
      "source": [
        "##### 3. Will the gained insights help creating a positive business impact?\n",
        "Are there any insights that lead to negative growth? Justify with specific reason."
      ],
      "metadata": {
        "id": "8xVviEpRw-OJ"
      }
    },
    {
      "cell_type": "markdown",
      "source": [
        "**Positive Business Impact:**\n",
        "\n",
        "**Pricing strategy:** insights into ADR variations can help the hotel management optimize pricing strategies for different distribution channels and hotel types. Higher ADR's in certain channels or hotel types can be leveraged for increased revenue.\n",
        "\n",
        "**Negative Business Impact:**\n",
        "\n",
        "\"Undefined\" channel in the \"City Hotel\" has an exceptionally low ADR. This may indicate issues with pricing or marketing strategies in this channel. Addressing this could lead to increased revenue and positive growth.\n"
      ],
      "metadata": {
        "id": "GwpuwQZMw-OJ"
      }
    },
    {
      "cell_type": "markdown",
      "source": [
        "#### **Chart - 11 Room Type Preferences Analysis**"
      ],
      "metadata": {
        "id": "titdJuVe2JIM"
      }
    },
    {
      "cell_type": "code",
      "source": [
        "# Chart - 11.1 visualization code\n",
        "sns.countplot(data = hotel_df, x= 'assigned_room_type', hue = 'hotel') #plots a count plot for assigned room type\n",
        "plt.xlabel('Assigned Room Type',fontweight = 'bold')\n",
        "plt.ylabel('No. of Bookings',fontweight = 'bold')\n",
        "plt.title('Assigned Room Type Ratio',fontweight = 'bold', size =12)\n",
        "plt.show()"
      ],
      "metadata": {
        "id": "fhd3nOFB2JIU"
      },
      "execution_count": null,
      "outputs": []
    },
    {
      "cell_type": "code",
      "source": [
        "# Chart - 11.2 visualization code\n",
        "sns.countplot(data = hotel_df, x= 'reserved_room_type', hue = 'hotel') #plots a count plot for reserved room type\n",
        "plt.xlabel('Reserved Room Type Ratio',fontweight = 'bold')\n",
        "plt.ylabel('No. of bookings',fontweight = 'bold')\n",
        "plt.title('Reserved Room Type Ratio',fontweight = 'bold', size =12)\n",
        "plt.show()"
      ],
      "metadata": {
        "id": "UFrEEwjy2JIU"
      },
      "execution_count": null,
      "outputs": []
    },
    {
      "cell_type": "markdown",
      "source": [
        "##### 1. Why did you pick the specific chart?"
      ],
      "metadata": {
        "id": "NUMRlLpX2JIU"
      }
    },
    {
      "cell_type": "markdown",
      "source": [
        "**counter plot:** A counter plot is also known as countplot, is used to visualize the frequency or count of categorical data, it displays the the number of occureneces of each category within a single categorical variable."
      ],
      "metadata": {
        "id": "DHi_43ST2JIU"
      }
    },
    {
      "cell_type": "markdown",
      "source": [
        "##### 2. What is/are the insight(s) found from the chart?"
      ],
      "metadata": {
        "id": "3CiEXcEo2JIV"
      }
    },
    {
      "cell_type": "markdown",
      "source": [
        "insights found from graphs is in both cases i,e. reserved room type and assigned room type majority of guests prefered to stay in room type 'A' & 'D' followed by 'E', 'F' and 'G'"
      ],
      "metadata": {
        "id": "btQ90I-72JIV"
      }
    },
    {
      "cell_type": "markdown",
      "source": [
        "##### 3. Will the gained insights help creating a positive business impact?\n",
        "Are there any insights that lead to negative growth? Justify with specific reason."
      ],
      "metadata": {
        "id": "4nG2psWO2JIV"
      }
    },
    {
      "cell_type": "markdown",
      "source": [
        "how ever both city hotel and resort hotel serve for different purposes.\n",
        "\n",
        "**City hotel room preferences:**\n",
        "\n",
        "**- bussiness travelers:** city hotels often booked by bussiness travelers whose preference will be spacious work-desk, high speed internet. These travelers prioritize convenience and functionality.\n",
        "\n",
        "**- Noise considerations:** if the hotel is in bussiest areas  guests prefer higher floors or those facing away from busy streets to reduce noise levels.\n",
        "\n",
        "**-Budget constraints:** price sensitive travelers may choose more affordable room types, especially if they plan to spend most of time exploring city rather than staying at hotel.\n",
        "\n",
        "**Resort hotel room preferences:**\n",
        "\n",
        "**- Leisure and vacation:** resort hotels often cater to leisure travelers and vacationers who may seek spacious and themed rooms.\n",
        "\n",
        "**- Amenities and activities:** Guests at resort hotels often look for amenities and activities like water sports, restaurant, music area. Their room preferences may align with easy access to these facilities.\n"
      ],
      "metadata": {
        "id": "V_ybBpmt2JIV"
      }
    },
    {
      "cell_type": "markdown",
      "source": [
        "#### **Chart - 12 Special Requests Analysis**"
      ],
      "metadata": {
        "id": "YJ55k-q6phqO"
      }
    },
    {
      "cell_type": "code",
      "source": [
        "# Chart - 12 visualization code\n",
        "hotel_df['total_of_special_requests'].value_counts() #gives sum of values in column"
      ],
      "metadata": {
        "id": "B2aS4O1ophqO"
      },
      "execution_count": null,
      "outputs": []
    },
    {
      "cell_type": "code",
      "source": [
        "# Chart - 12 visualization plot\n",
        "sns.countplot(data = hotel_df, x='total_of_special_requests', hue = 'hotel')\n",
        "plt.xlabel('Types of Special Requests', fontweight = 'bold')\n",
        "plt.ylabel('No. of bookings', fontweight = 'bold')\n",
        "plt.title('Special Requests Analysis', fontweight = 'bold', size =12)\n",
        "plt.show()"
      ],
      "metadata": {
        "id": "pC1kD3A8DLOL"
      },
      "execution_count": null,
      "outputs": []
    },
    {
      "cell_type": "markdown",
      "source": [
        "##### 1. Why did you pick the specific chart?"
      ],
      "metadata": {
        "id": "gCFgpxoyphqP"
      }
    },
    {
      "cell_type": "markdown",
      "source": [
        "**counter plot:** A counter plot is also known as countplot, is used to visualize the frequency or count of categorical data, it displays the the number of occureneces of each category within a single categorical variable."
      ],
      "metadata": {
        "id": "TVxDimi2phqP"
      }
    },
    {
      "cell_type": "markdown",
      "source": [
        "##### 2. What is/are the insight(s) found from the chart?"
      ],
      "metadata": {
        "id": "OVtJsKN_phqQ"
      }
    },
    {
      "cell_type": "markdown",
      "source": [
        "43,893 out of 80,395 i,e. 54.6% of bookings have no special requests.\n",
        "\n",
        "29,017 guests i,e. 36.1% of bookings have only one special requests.\n",
        "\n",
        "2,317 guests i,e. 2.9% has of bookings 2 special requests and so on."
      ],
      "metadata": {
        "id": "ngGi97qjphqQ"
      }
    },
    {
      "cell_type": "markdown",
      "source": [
        "##### 3. Will the gained insights help creating a positive business impact?\n",
        "Are there any insights that lead to negative growth? Justify with specific reason."
      ],
      "metadata": {
        "id": "lssrdh5qphqQ"
      }
    },
    {
      "cell_type": "markdown",
      "source": [
        "**Positive Business Impacts:**\n",
        "\n",
        "**Efficiency and Cost Savings:** The high number of bookings with few or no special requests can streamline hotel operations, reduce complexity, and potentially lead to cost savings in providing services. This allows the hotel to allocate resources more efficiently.\n",
        "\n",
        "**Personalized Service:** For bookings with special requests, hotel staff can focus on providing personalized services to enhance the guest experience. Meeting specific guest needs can lead to higher customer satisfaction and loyalty.\n",
        "\n",
        "**Negative Growth or Concerns:**\n",
        "\n",
        "**Resource Allocation:** While meeting special requests is essential for guest satisfaction, a high volume of requests can strain resources. The hotel must strike a balance between accommodating requests and maintaining operational efficiency.\n",
        "\n",
        "**Potential Negative Impact:** If the hotel cannot efficiently handle a high volume of special requests or consistently meet guest expectations, it could lead to negative guest reviews and decreased customer satisfaction."
      ],
      "metadata": {
        "id": "tBpY5ekJphqQ"
      }
    },
    {
      "cell_type": "markdown",
      "source": [
        "#### **Chart - 13 Booking Cancellation Across Hotels Analysis**"
      ],
      "metadata": {
        "id": "U2RJ9gkRphqQ"
      }
    },
    {
      "cell_type": "code",
      "source": [
        "# Chart - 13 visualization code\n",
        "def booking_cancelation(col): #replacing column values '0' with 'Booking canceled' and '1' with 'Not canceled'\n",
        "  if col == 0:\n",
        "    return 'Booking canceled'\n",
        "  else:\n",
        "    return 'Not canceled'\n",
        "\n",
        "booking_cancellation = hotel_df.copy()\n",
        "booking_cancellation['is_canceled'] = hotel_df['is_canceled'].apply(booking_cancelation)"
      ],
      "metadata": {
        "id": "DVnpJWzkpQJd"
      },
      "execution_count": null,
      "outputs": []
    },
    {
      "cell_type": "code",
      "source": [
        "booking_cancellation['is_canceled'].value_counts() #gives the sum of values in column"
      ],
      "metadata": {
        "id": "Q9RUp890r6A5"
      },
      "execution_count": null,
      "outputs": []
    },
    {
      "cell_type": "code",
      "source": [
        "# Chart - 13 visualization plot\n",
        "sns.countplot(data =booking_cancellation, x='is_canceled', hue = 'hotel')\n",
        "plt.xlabel('cancelation status', fontweight='bold')\n",
        "plt.ylabel('No. of cancelations',fontweight='bold')\n",
        "plt.title('Booking Cancelation Analysis',fontweight='bold', size = 13)\n",
        "plt.show()"
      ],
      "metadata": {
        "id": "qC8cS4jnjnoV"
      },
      "execution_count": null,
      "outputs": []
    },
    {
      "cell_type": "markdown",
      "source": [
        "##### 1. Why did you pick the specific chart?"
      ],
      "metadata": {
        "id": "1M8mcRywphqQ"
      }
    },
    {
      "cell_type": "markdown",
      "source": [
        "**counter plot:** A counter plot is also known as countplot, is used to visualize the frequency or count of categorical data, it displays the the number of occureneces of each category within a single categorical variable."
      ],
      "metadata": {
        "id": "8agQvks0phqQ"
      }
    },
    {
      "cell_type": "markdown",
      "source": [
        "##### 2. What is/are the insight(s) found from the chart?"
      ],
      "metadata": {
        "id": "tgIPom80phqQ"
      }
    },
    {
      "cell_type": "markdown",
      "source": [
        "**High cancellation rates:** There are significantly more canceled bookings (63,371) compared to non-canceled bookings (24,024) suggests that the hotel experiences a relatively high booking cancellation rate.\n",
        "\n",
        "**Potential Revenue loss:** The large number of canceled bookings implies that the hotel may experience revenue loss due to cancellations. When customers cancel their bookings, it can lead to vacant rooms, which means potential revenue that could have been earned is lost. This insight underscores the importance of managing and reducing booking cancellations."
      ],
      "metadata": {
        "id": "Qp13pnNzphqQ"
      }
    },
    {
      "cell_type": "markdown",
      "source": [
        "##### 3. Will the gained insights help creating a positive business impact?\n",
        "Are there any insights that lead to negative growth? Justify with specific reason."
      ],
      "metadata": {
        "id": "JMzcOPDDphqR"
      }
    },
    {
      "cell_type": "markdown",
      "source": [
        "**Optimizing Revenue Management:** Understanding the cancellation rate can help the hotel in optimizing its revenue management strategies. It can adjust pricing overbooking policies and promotional strategies to minimize revenue loss due to cancellations.\n",
        "\n",
        "**Enhancing Customer Experience:** By analyzing the reasons for cancellations, the hotel can identify areas for improvement in its services or policies. Addressing these issues can lead to a better customer experience and potentially reduce cancellations.\n",
        "\n",
        "**Resource Allocation:** The hotel can adjust staffing and resource allocation based on booking patterns. For instance, during peak cancellation periods, the hotel can reduce staff or services temporarily to minimize operational costs.\n",
        "\n",
        "**Negative Growth impact (if not taken care):**\n",
        "\n",
        "**Reduced Customer Loyalty:** Frequent cancellations can also lead to reduced customer loyalty. Guests who repeatedly experience cancellations or uncertainties may choose other hotels in the future, affecting long-term customer relationships.\n",
        "\n",
        "**Revenue Loss:** If the high cancellation rate is not effectively managed, it can lead to a significant loss of revenue over time. This can impact the overall business potential."
      ],
      "metadata": {
        "id": "R4Ka1PC2phqR"
      }
    },
    {
      "cell_type": "markdown",
      "source": [
        "#### **Chart - 14 Booking Changes Analysis**"
      ],
      "metadata": {
        "id": "x-EpHcCOp1ci"
      }
    },
    {
      "cell_type": "code",
      "source": [
        "# Chart - 14 visualization code/plot\n",
        "hotel_df['booking_changes'].value_counts() #give the sum of values in columns\n",
        "sns.countplot(data = hotel_df, x= 'booking_changes', hue = 'hotel') #plots a counter plot\n",
        "plt.xlabel('No. of Booking Changes by single Guests', fontweight = 'bold')\n",
        "plt.ylabel('No. of booking changes', fontweight = 'bold')\n",
        "plt.title('Booking Changes Analysis', fontweight = 'bold' ,size=12)\n",
        "plt.show()"
      ],
      "metadata": {
        "id": "mAQTIvtqp1cj"
      },
      "execution_count": null,
      "outputs": []
    },
    {
      "cell_type": "markdown",
      "source": [
        "##### 1. Why did you pick the specific chart?"
      ],
      "metadata": {
        "id": "X_VqEhTip1ck"
      }
    },
    {
      "cell_type": "markdown",
      "source": [
        "**counter plot:** A counter plot is also known as countplot, is used to visualize the frequency or count of categorical data, it displays the the number of occureneces of each category within a single categorical variable."
      ],
      "metadata": {
        "id": "-vsMzt_np1ck"
      }
    },
    {
      "cell_type": "markdown",
      "source": [
        "##### 2. What is/are the insight(s) found from the chart?"
      ],
      "metadata": {
        "id": "8zGJKyg5p1ck"
      }
    },
    {
      "cell_type": "markdown",
      "source": [
        "Data shows that significant number of bookings have no changes i,e. 71,494 has 0 changes, substantial number of bookings are with minimum no. of changes"
      ],
      "metadata": {
        "id": "ZYdMsrqVp1ck"
      }
    },
    {
      "cell_type": "markdown",
      "source": [
        "##### 3. Will the gained insights help creating a positive business impact?\n",
        "Are there any insights that lead to negative growth? Justify with specific reason."
      ],
      "metadata": {
        "id": "PVzmfK_Ep1ck"
      }
    },
    {
      "cell_type": "markdown",
      "source": [
        "**Positive Business Impact:**\n",
        "\n",
        "**Customer Preferences and Flexibility:** Understanding the frequency of booking changes can help the hotel tailor its booking policies and offerings to match customer preferences for flexibility. It can offer flexible booking options that allow customers to make changes without penalty, potentially attracting more bookings.\n",
        "\n",
        "**Resource Allocation:** The hotel can adjust its staffing and room allocation strategies based on booking change patterns. For example, during peak periods of changes, the hotel can allocate more resources to handle customer requests efficiently.\n",
        "\n",
        "**Negative business impact:**\n",
        "\n",
        "**Operational Challenges:** If the hotel does not effectively manage bookings with frequent changes, it can lead to operational challenges. For instance, last-minute changes can strain resources staff/amenities and room availability.\n",
        "\n",
        "**Customer Experience:** Flexibility is important factor, but too many changes can disrupt the booking managements and lead to dissatisfaction. achieveing the right balance between flexibility and stability is crucial.\n",
        "\n",
        "**Loss of Efficiency:** Managing a large number of booking changes can be administratively difficult and lead to inefficiencies if not handled properly."
      ],
      "metadata": {
        "id": "druuKYZpp1ck"
      }
    },
    {
      "cell_type": "markdown",
      "source": [
        "#### **Chart - 15 Booking Cancelation Analysis by Deposit type**"
      ],
      "metadata": {
        "id": "Ag9LCva-p1cl"
      }
    },
    {
      "cell_type": "code",
      "source": [
        "# Chart - 15 visualization code\n",
        "deposit = hotel_df.groupby('hotel')['deposit_type'].value_counts() #goups by 'hotel' and gives sum of values in column\n",
        "deposit"
      ],
      "metadata": {
        "id": "EUfxeq9-p1cl"
      },
      "execution_count": null,
      "outputs": []
    },
    {
      "cell_type": "code",
      "source": [
        "# Chart - 15 visualization plot\n",
        "sns.countplot(data = hotel_df, x='deposit_type', hue = 'hotel')\n",
        "plt.xlabel('Deposite Type', fontweight = 'bold')\n",
        "plt.ylabel('No. of Cancelations', fontweight = 'bold')\n",
        "plt.title('Booking Cancelation By Deposit Type', fontweight = 'bold', size =12)\n",
        "plt.show()"
      ],
      "metadata": {
        "id": "zi3ArOZcLQxL"
      },
      "execution_count": null,
      "outputs": []
    },
    {
      "cell_type": "markdown",
      "source": [
        "##### 1. Why did you pick the specific chart?"
      ],
      "metadata": {
        "id": "E6MkPsBcp1cl"
      }
    },
    {
      "cell_type": "markdown",
      "source": [
        "**counter plot:** A counter plot is also known as countplot, is used to visualize the frequency or count of categorical data, it displays the the number of occureneces of each category within a single categorical variable."
      ],
      "metadata": {
        "id": "V22bRsFWp1cl"
      }
    },
    {
      "cell_type": "markdown",
      "source": [
        "##### 2. What is/are the insight(s) found from the chart?"
      ],
      "metadata": {
        "id": "2cELzS2fp1cl"
      }
    },
    {
      "cell_type": "markdown",
      "source": [
        "The data shows the distribution of deposit types for guests at City Hotel and Resort Hotel.\n",
        "\n",
        "**For City Hotel:**\n",
        "\n",
        "- \"No Deposit\" is the most common deposit type (52,568 bookings).\n",
        "- \"Non Refund\" is the second most common deposit type (844 bookings).\n",
        "- \"Refundable\" is the least common deposit type (15 bookings)\n",
        "\n",
        "**For Resort Hotel:**\n",
        "\n",
        "- \"No Deposit\" is the most common deposit type (33,683 bookings).\n",
        "- \"Non Refund\" is the second most common deposit type (193 bookings).\n",
        "- \"Refundable\" is also present but less common compared to the other two types (92 bookings)."
      ],
      "metadata": {
        "id": "ozQPc2_Ip1cl"
      }
    },
    {
      "cell_type": "markdown",
      "source": [
        "##### 3. Will the gained insights help creating a positive business impact?\n",
        "Are there any insights that lead to negative growth? Justify with specific reason."
      ],
      "metadata": {
        "id": "3MPXvC8up1cl"
      }
    },
    {
      "cell_type": "markdown",
      "source": [
        "**Positive Business impacts:**\n",
        "\n",
        "**Understanding Customer Preferences:** These insights help hotels understand their guests' deposit preferences. For example, the majority of guests at both hotels prefer \"No Deposit,\" indicating that flexibility in payment is valued.\n",
        "\n",
        "**Booking Flexibility:** Offering a variety of deposit options, including \"No Deposit,\" can attract a broader range of guests and enhance booking flexibility.\n",
        "\n",
        "**Revenue Management:** Knowing which deposit types are most popular allows hotels to optimize their revenue management strategies, such as pricing and booking policies, to maximize revenue while meeting customer preferences.\n",
        "\n",
        "**Negative business Impact:**\n",
        "\n",
        "**Risk management:**  \"No Deposit\" may be popular, it poses risk to hotels because guests can cancel without penalty. If not managed properly, a high percentage of \"No Deposit\" bookings may lead to revenue loss due to cancellations.\n",
        "\n",
        "**Cash Flow Considerations:** Depending on the deposit type, hotels may receive payments at different times. For example, \"No Deposit\" guests pay upon arrival, while \"Refundable\" guests may have already paid in advance. Managing cash flow and financial planning is important to ensure the hotel's stability.\n",
        "\n",
        "**Customer Satisfaction:** Mismanagement of deposit types, especially when guests expect refunds, can lead to dissatisfaction and negative reviews if refunds are delayed or mishandled.\n"
      ],
      "metadata": {
        "id": "GL8l1tdLp1cl"
      }
    },
    {
      "cell_type": "markdown",
      "source": [
        "### **Multi-variate Analysis -**"
      ],
      "metadata": {
        "id": "PK6C2Qg61_dn"
      }
    },
    {
      "cell_type": "markdown",
      "source": [
        "#### **Chart - 16 Correlation Heatmap**"
      ],
      "metadata": {
        "id": "NC_X3p0fY2L0"
      }
    },
    {
      "cell_type": "code",
      "source": [
        "# Correlation Heatmap visualization code\n",
        "hotel_df.corr()"
      ],
      "metadata": {
        "id": "xyC9zolEZNRQ"
      },
      "execution_count": null,
      "outputs": []
    },
    {
      "cell_type": "code",
      "source": [
        "# Correlation Heatmap visualization plot\n",
        "plt.figure(figsize=(20,12))\n",
        "ax = sns.heatmap(hotel_df.corr(numeric_only=True), annot = True,linewidth = 0.5, fmt = '.2f', cmap = 'plasma')\n",
        "plt.title('correlation of hotel analysis', fontweight = 'bold', fontsize = 30)\n",
        "plt.xticks(fontsize = 20)\n",
        "plt.yticks(fontsize = 20)\n",
        "plt.show()\n"
      ],
      "metadata": {
        "id": "R5x1Q9d3wZE-"
      },
      "execution_count": null,
      "outputs": []
    },
    {
      "cell_type": "markdown",
      "source": [
        "**-1 indicating a strong negative correlation**\n",
        "\n",
        "**0 indicating no correlation**\n",
        "\n",
        "**1 indicating a strong positive correlation between two variables**"
      ],
      "metadata": {
        "id": "x9IAgnbZhWqQ"
      }
    },
    {
      "cell_type": "markdown",
      "source": [
        "##### 1. Why did you pick the specific chart?"
      ],
      "metadata": {
        "id": "UV0SzAkaZNRQ"
      }
    },
    {
      "cell_type": "markdown",
      "source": [
        "Heatmap: A correlation heatmap is a graphical representation of a correlation matrix, where the correlation coefficients between multiple variables are displayed in a matrix format using colors to represent the strength and direction of the relationships between the variables. Correlation coefficients quantify the degree to which two variables are linearly related to each other."
      ],
      "metadata": {
        "id": "DVPuT8LYZNRQ"
      }
    },
    {
      "cell_type": "markdown",
      "source": [
        "##### 2. What is/are the insight(s) found from the chart?"
      ],
      "metadata": {
        "id": "YPEH6qLeZNRQ"
      }
    },
    {
      "cell_type": "markdown",
      "source": [
        "**1. correlation between \"is_canceled\" & \"lead_time\":** \"is_canceled\" has a moderate positive correlation with \"lead_time\" (0.18). This suggests that as the lead time increases, the likelihood of a booking being canceled also increases.\n",
        "\n",
        "**2. correlation between \"is_canceled\" & \"total_of_special_requests\":** \"is_canceled\" has a negative correlation with \"total_of_special_requests\" (-0.12). Fewer special requests may indicate a higher chance of cancellation.\n",
        "\n",
        "**3. correlation between \"is_canceled\" & \"required_car_parking_spaces\":** \"is_canceled\" has a negative correlation with \"required_car_parking_spaces\" (-0.18), suggesting that bookings with parking space requirements may have a higher cancellation rate.\n",
        "\n",
        " **4. Correlation between \"total_stay\" and \"lead time\":**\n",
        "\"total_stay\" has positive correlations with \"lead_time\" (0.32). This suggests that longer stays are associated with longer lead times and potentially higher average daily rates.\n",
        "\n",
        "**5. stay in weekend nights\" has a correlation of 0.24 with \"lead time\":** This suggests a weak positive linear relationship between the number of weekend nights stayed and the lead time. As the lead time increases, the number of weekend nights stayed tends to increase slightly.\n",
        "\n",
        "**6. \"stay in week nights\" has a correlation of 0.31 with \"lead time\":** This indicates a weak positive linear relationship between the number of week nights stayed and the lead time. As the lead time increases, the number of week nights stayed tends to increase slightly.\n",
        "\n",
        "**7. \"stay in week nights\" has a correlation of 0.56 with \"stay in weekend nights\":** This suggests a moderate positive linear relationship between the number of week nights stayed and the number of weekend nights stayed. When guests stay more week nights, they also tend to stay more weekend nights, which is a logical relationship.\n",
        "\n",
        "**8. \"previous booking not canceled\" has a correlation of 0.44 with \"is a repeated guest\":** This indicates a moderate positive linear relationship between the two variables. Guests who have not canceled previous bookings are more likely to be repeated guests.\n",
        "\n",
        "**9. \"previous booking not canceled\" has a correlation of 0.39 with \"previous cancellation\":**\n",
        "There is a moderate positive linear relationship between the variable \"previous booking not canceled\" and \"previous cancellation.\" This suggests that guests who have a history of not canceling bookings tend to have fewer previous cancellations.\n",
        "\n",
        "**10. \"adr\" has a correlation of 0.26 with \"adults\":**\n",
        "There is a weak positive linear relationship between the average daily rate (adr) and the number of adults. As the number of adults increases, the average daily rate tends to increase slightly.\n",
        "\n",
        "**10.1 \"adr\" has a correlation of 0.35 with \"children\":** There is a moderate positive linear relationship between the average daily rate (adr) and the number of children. As the number of children increases, the average daily rate tends to increase.\n",
        "\n",
        "**11. \"total guests\" has a correlation of 0.41 with \"adr\":** There is a moderate positive linear relationship between the total number of guests and the average daily rate (adr). As the number of guests increases, the average daily rate tends to increase.\n",
        "\n"
      ],
      "metadata": {
        "id": "bfSqtnDqZNRR"
      }
    },
    {
      "cell_type": "markdown",
      "source": [
        "#### **Chart - 17 Pair Plots for various columns**"
      ],
      "metadata": {
        "id": "q29F0dvdveiT"
      }
    },
    {
      "cell_type": "markdown",
      "source": [
        "**Pair plot-1 for Booking related columns:**\n",
        "\n",
        "\n",
        "- 'lead_time': This column represents the number of days between booking and arrival. It can be interesting to see how lead time relates to other booking-related variables.\n",
        "- 'stays_in_weekend_nights': This column represents the number of weekend nights stayed.\n",
        "- 'stays_in_week_nights': This column represents the number of week nights stayed.\n",
        "- 'booking_changes': This column represents the number of changes made to the booking."
      ],
      "metadata": {
        "id": "I5l0kjIyA6Ha"
      }
    },
    {
      "cell_type": "code",
      "source": [
        "# Pair Plot-1 visualization\n",
        "\n",
        "Booking_related_columns = hotel_df[['hotel','lead_time', 'stays_in_weekend_nights', 'stays_in_week_nights' , 'booking_changes']].copy()\n",
        "\n",
        "sns.pairplot(data = Booking_related_columns, hue = 'hotel')"
      ],
      "metadata": {
        "id": "o58-TEIhveiU"
      },
      "execution_count": null,
      "outputs": []
    },
    {
      "cell_type": "markdown",
      "source": [
        "**Pair plot-2 Guest-related columns**\n",
        "\n",
        "- 'adults': This column represents the number of adults in the booking.\n",
        "- 'children': This column represents the number of children in the booking.\n",
        "- 'babies': This column represents the number of babies in the booking.\n",
        "- 'total_of_special_requests': This column represents the total number of special requests made by guests during their stay.\n"
      ],
      "metadata": {
        "id": "uebJzjnsG3-B"
      }
    },
    {
      "cell_type": "code",
      "source": [
        "# Pair Plot-2 visualization\n",
        "\n",
        "Guest_related_columns = hotel_df[['hotel','adults', 'children', 'babies', 'total_of_special_requests']].copy()\n",
        "Guest_related_columns\n",
        "sns.pairplot(Guest_related_columns, hue = 'hotel')"
      ],
      "metadata": {
        "id": "3saWprloGOof"
      },
      "execution_count": null,
      "outputs": []
    },
    {
      "cell_type": "markdown",
      "source": [
        "**pair plot-3 Booking cancelation history**\n",
        "\n",
        "- 'previous_cancellations': The number of previous cancellations by the guest.\n",
        "- 'previous_bookings_not_canceled': The number of previous bookings that were not canceled by the guest.\n",
        "- 'is_repeated_guest': Indicates whether the guest is a repeated guest (binary, 0 or 1).\n",
        "\n"
      ],
      "metadata": {
        "id": "Vy32d_-kHh6Z"
      }
    },
    {
      "cell_type": "code",
      "source": [
        "# Pair Plot-3 visualization\n",
        "\n",
        "Booking_cancelation_history = hotel_df[['hotel', 'previous_cancellations', 'previous_bookings_not_canceled', 'is_repeated_guest', 'adr']]\n",
        "\n",
        "sns.pairplot(Booking_cancelation_history, hue = 'hotel')"
      ],
      "metadata": {
        "id": "BVCkzoBXGOlE"
      },
      "execution_count": null,
      "outputs": []
    },
    {
      "cell_type": "markdown",
      "source": [
        "##### 1. Why did you pick the specific chart?"
      ],
      "metadata": {
        "id": "EXh0U9oCveiU"
      }
    },
    {
      "cell_type": "markdown",
      "source": [
        "A pair plot is a data visualization technique that allows us to plot pairwise relationships between variables within a dataset, pairs of numerical variables in a dataset, aiding in the exploration of relationships, correlations, and outliers.\n",
        "\n",
        "\n",
        "\n",
        "\n"
      ],
      "metadata": {
        "id": "eMmPjTByveiU"
      }
    },
    {
      "cell_type": "markdown",
      "source": [
        "##### 2. What is/are the insight(s) found from the chart?"
      ],
      "metadata": {
        "id": "22aHeOlLveiV"
      }
    },
    {
      "cell_type": "markdown",
      "source": [
        "**Pair plot-1 Booking related Columns:**\n",
        "- A positive correlation between 'stays_in_weekend_nights' and 'stays_in_week_nights,' indicating that guests who stay more on weekends also tend to stay more on weekdays.\n",
        "- 'lead_time' has near to zero correlation with 'booking_changes,' suggesting that guests who book in advance are less likely to make changes to their booking.\n",
        "\n",
        "**Pair plot-2 Guest related Columns:**\n",
        "- Observing the plot, it becomes evident that guests with a higher number of adults tend to make more special requests and additionally, in resort hotels there is an increased frequency of special requests.\n",
        "\n",
        "**Pair plot-3 Booking cancelation HIstory:**\n",
        "- In the context of resort hotels, it's notable that repeated guests tend to have a higher rate of previous booking cancellations. Furthermore, within this category of hotels, there is a discernible pattern where the average daily rate (ADR) tends to be higher when previous cancellations have occurred.\n",
        "\n",
        "\n",
        "\n",
        "\n",
        "\n"
      ],
      "metadata": {
        "id": "uPQ8RGwHveiV"
      }
    },
    {
      "cell_type": "markdown",
      "source": [
        "## **5. Solution to Business Objective**"
      ],
      "metadata": {
        "id": "JcMwzZxoAimU"
      }
    },
    {
      "cell_type": "markdown",
      "source": [
        "#### What do you suggest the client to achieve Business Objective ?\n",
        "Explain Briefly."
      ],
      "metadata": {
        "id": "8G2x9gOozGDZ"
      }
    },
    {
      "cell_type": "markdown",
      "source": [
        "**Marketing and Promotion:** Develop targeted marketing campaigns to attract a diverse range of customers, such as families, couples, and corporate groups. Leverage online and offline marketing channels, including social media, email marketing, and partnerships with travel agencies.\n",
        "\n",
        "**Analysing guests preferences:** Utilize data analytics to gain insights into guest preferences and behavior. Analyze booking patterns, customer reviews, and historical data to make informed decisions about pricing policies, promotions, and service improvements.\n",
        "\n",
        "**Pricing Strategy:** Implement dynamic pricing strategies to optimize room rates based on demand and seasonality. Offer packages and discounts during off-peak periods to attract more visitors. Stay informed about industry trends and the competitive landscape. Adapt to changing consumer preferences.\n",
        "\n",
        "**Diversification of Revenue Streams:** Explore opportunities to generate additional revenue, such as hosting events, offering spa services, or partnering with local businesses for tours and activities.\n",
        "\n",
        "**Reduce Operational Costs:** Implement energy-saving practices and eco-friendly initiatives, Streamline housekeeping schedules for efficiency, Evaluating and optimize the supply chain for food and beverage services. Invest in energy-efficient technologies like lighting and HVAC systems. Use automated check-in and check-out procedures to reduce manpower.\n",
        "\n",
        "**Online Reputation Management:** Monitor and respond to guest reviews and feedback on platforms like TripAdvisor and Yelp. Address concerns promptly and use positive feedback as testimonials in marketing materials.\n",
        "\n",
        "**Staff Training:** Invest in staff training and development to ensure high-quality service. Happy and well-trained employees contribute to positive guest experiences.\n",
        "\n",
        "**Customer Experience Enhancement:** Continuously improve the guest experience to encourage return visits and positive reviews. This can include personalized services, exceptional dining experiences, recreational activities, and maintaining high cleanliness standards.\n",
        "\n",
        "**Customer Relationship Management (CRM):** Implement a CRM system to manage guest information and preferences. Use this data to provide personalized experiences, including room preferences, special occasions, and loyalty programs."
      ],
      "metadata": {
        "id": "pASKb0qOza21"
      }
    },
    {
      "cell_type": "markdown",
      "source": [
        "# **Conclusion**"
      ],
      "metadata": {
        "id": "gCX9965dhzqZ"
      }
    },
    {
      "cell_type": "markdown",
      "source": [
        "**1. City Hotel vs. Resort Hotel Bookings:** City hotels have a higher proportion of bookings (61%) compared to resort hotels (39%), indicating that city hotels are more popular among guests. This insight can guide marketing strategies and resource allocation.\n",
        "\n",
        "**2. Seasonal and Yearly Hotel Booking Patterns:** Bookings were highest in the year 2016, but the reasons for this peak are unclear.\n",
        "There are seasonal patterns with higher bookings in July and August and lower bookings in November, December, and January. These insights can help with staff scheduling and inventory management.\n",
        "\n",
        "**3. Average Daily Rate (ADR) Comparison:** City hotels have a higher overall mean ADR (110.89) compared to resort hotels (99.03), suggesting that city hotels can potentially command higher room rates. Pricing strategies can be adjusted accordingly.\n",
        "\n",
        "**4. Booking Channel Preference:** The majority of bookings (79.11%) come through Travel Agents/Tour Operators (TA/TO), highlighting their significance. Encouraging more direct bookings (14.86%) can be cost-effective. Maintaining strong relationships with TA/TO partners is crucial.\n",
        "\n",
        "**5. Room Type Preferences:** Guests tend to prefer room types 'A' and 'D' followed by 'E,' 'F,' and 'G' in both reserved and assigned room types. This information can inform room allocation strategies and renovations.\n",
        "\n",
        "**6. Meal Preference:** \"Bed and Breakfast\" (BB) is the most popular meal plan (79.62%), followed by \"Self-Catering\" (SC) and \"Half Board\" (HB). Focusing on promoting these preferred meal plans can increase revenue.\n",
        "\n",
        "**7. Customer Type Analysis:** \"Transient\" customers constitute the majority (82.36%), followed by \"Transient-Party,\" \"Contract,\" and \"Group.\" Tailoring services to the preferences of the predominant customer type can enhance guest satisfaction.\n",
        "\n",
        "**8. Repeated Guests:** The analysis reveals a significant dominance of \"New booking\" (96.09%) over \"Repeated booking\" (3.91%). Implementing loyalty programs and incentives for repeated bookings can be explored to increase guest retention.\n",
        "\n",
        "**9. Special Requests During Booking:** A significant portion of bookings (54.6%) do not have any special requests, while 36.1% have only one special request, and a smaller percentage have multiple special requests. Hotel management can optimize resources and services based on the prevalence of special requests.\n",
        "\n",
        "**10. Booking Cancellation Analysis:**\n",
        "- High cancellation rates (63,371) compared to non-canceled bookings (24,024) suggest a relatively high booking cancellation rate.\n",
        "- Potential revenue loss due to canceled bookings emphasizes the need to manage and reduce cancellations through strategies like flexible cancellation policies.\n",
        "\n",
        "**11. Booking Changes Analysis:** The data shows that a substantial number of bookings (71,494) have no changes, indicating stability in initial reservations. Monitoring patterns of booking changes can help improve booking management processes.\n",
        "\n",
        "**12. Booking Confirmation Time:** Guests at the \"City Hotel\" typically experience a longer waiting time (approximately 1.02 days) in the waiting list compared to guests at the \"Resort Hotel\" (approximately 0.32 days). This insight highlights the importance of efficient reservation handling and waitlist management, particularly for city hotels.\n",
        "\n",
        "**13. Booking Cancelation Analysis by Deposit type:** Deposit types for guests at both City and Resort hotels are detailed:\n",
        "\n",
        "- \"No Deposit\" is the most common deposit type in both hotel types, highlighting the importance of flexible booking options.\n",
        "- \"Non Refund\" is also prevalent, indicating a subset of non-refundable bookings.\n",
        "- \"Refundable\" deposits are less common but still present, giving guests flexibility in their booking choices. This information can inform deposit policies and marketing strategies.\n",
        "\n",
        "\n",
        "These conclusions provide valuable insights for decision-making in areas such as marketing, pricing, service offerings, and customer relationship management within the hotel business."
      ],
      "metadata": {
        "id": "Fjb1IsQkh3yE"
      }
    },
    {
      "cell_type": "markdown",
      "source": [
        "### ***Hurrah! You have successfully completed your EDA Capstone Project !!!***"
      ],
      "metadata": {
        "id": "gIfDvo9L0UH2"
      }
    }
  ]
}